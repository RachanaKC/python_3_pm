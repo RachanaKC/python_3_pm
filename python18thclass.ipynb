{
 "cells": [
  {
   "cell_type": "code",
   "execution_count": 1,
   "id": "3b4d2a58",
   "metadata": {},
   "outputs": [],
   "source": [
    "data=[['sn','name','age','add'],\n",
    "      [1,'ram',34,'ktm'],\n",
    "      [2,'shyam',67,'bkt'],\n",
    "      [3,'hari',40,'bir']]"
   ]
  },
  {
   "cell_type": "code",
   "execution_count": 2,
   "id": "4279942d",
   "metadata": {},
   "outputs": [],
   "source": [
    "import csv\n",
    "file=open('data2.csv','w')\n",
    "x=csv.writer(file)\n",
    "x.writerows(data)\n",
    "file.close()"
   ]
  },
  {
   "cell_type": "code",
   "execution_count": 3,
   "id": "42027dd6",
   "metadata": {},
   "outputs": [
    {
     "data": {
      "text/html": [
       "<div>\n",
       "<style scoped>\n",
       "    .dataframe tbody tr th:only-of-type {\n",
       "        vertical-align: middle;\n",
       "    }\n",
       "\n",
       "    .dataframe tbody tr th {\n",
       "        vertical-align: top;\n",
       "    }\n",
       "\n",
       "    .dataframe thead th {\n",
       "        text-align: right;\n",
       "    }\n",
       "</style>\n",
       "<table border=\"1\" class=\"dataframe\">\n",
       "  <thead>\n",
       "    <tr style=\"text-align: right;\">\n",
       "      <th></th>\n",
       "      <th>sn</th>\n",
       "      <th>name</th>\n",
       "      <th>age</th>\n",
       "      <th>add</th>\n",
       "    </tr>\n",
       "  </thead>\n",
       "  <tbody>\n",
       "    <tr>\n",
       "      <th>0</th>\n",
       "      <td>1</td>\n",
       "      <td>ram</td>\n",
       "      <td>34</td>\n",
       "      <td>ktm</td>\n",
       "    </tr>\n",
       "    <tr>\n",
       "      <th>1</th>\n",
       "      <td>2</td>\n",
       "      <td>shyam</td>\n",
       "      <td>67</td>\n",
       "      <td>bkt</td>\n",
       "    </tr>\n",
       "    <tr>\n",
       "      <th>2</th>\n",
       "      <td>3</td>\n",
       "      <td>hari</td>\n",
       "      <td>40</td>\n",
       "      <td>bir</td>\n",
       "    </tr>\n",
       "  </tbody>\n",
       "</table>\n",
       "</div>"
      ],
      "text/plain": [
       "   sn   name  age  add\n",
       "0   1    ram   34  ktm\n",
       "1   2  shyam   67  bkt\n",
       "2   3   hari   40  bir"
      ]
     },
     "execution_count": 3,
     "metadata": {},
     "output_type": "execute_result"
    }
   ],
   "source": [
    "import pandas as pd\n",
    "df=pd.read_csv('data2.csv')\n",
    "df"
   ]
  },
  {
   "cell_type": "code",
   "execution_count": 4,
   "id": "6f0b0866",
   "metadata": {},
   "outputs": [],
   "source": [
    "data={'name':['ram','shyam','hari'],\n",
    "     'age':[45,67,43],\n",
    "     'add':['ktm','bkt','ltl']}"
   ]
  },
  {
   "cell_type": "code",
   "execution_count": 5,
   "id": "c6cb1e33",
   "metadata": {},
   "outputs": [
    {
     "data": {
      "text/html": [
       "<div>\n",
       "<style scoped>\n",
       "    .dataframe tbody tr th:only-of-type {\n",
       "        vertical-align: middle;\n",
       "    }\n",
       "\n",
       "    .dataframe tbody tr th {\n",
       "        vertical-align: top;\n",
       "    }\n",
       "\n",
       "    .dataframe thead th {\n",
       "        text-align: right;\n",
       "    }\n",
       "</style>\n",
       "<table border=\"1\" class=\"dataframe\">\n",
       "  <thead>\n",
       "    <tr style=\"text-align: right;\">\n",
       "      <th></th>\n",
       "      <th>name</th>\n",
       "      <th>age</th>\n",
       "      <th>add</th>\n",
       "    </tr>\n",
       "  </thead>\n",
       "  <tbody>\n",
       "    <tr>\n",
       "      <th>0</th>\n",
       "      <td>ram</td>\n",
       "      <td>45</td>\n",
       "      <td>ktm</td>\n",
       "    </tr>\n",
       "    <tr>\n",
       "      <th>1</th>\n",
       "      <td>shyam</td>\n",
       "      <td>67</td>\n",
       "      <td>bkt</td>\n",
       "    </tr>\n",
       "    <tr>\n",
       "      <th>2</th>\n",
       "      <td>hari</td>\n",
       "      <td>43</td>\n",
       "      <td>ltl</td>\n",
       "    </tr>\n",
       "  </tbody>\n",
       "</table>\n",
       "</div>"
      ],
      "text/plain": [
       "    name  age  add\n",
       "0    ram   45  ktm\n",
       "1  shyam   67  bkt\n",
       "2   hari   43  ltl"
      ]
     },
     "execution_count": 5,
     "metadata": {},
     "output_type": "execute_result"
    }
   ],
   "source": [
    "df=pd.DataFrame(data)\n",
    "df"
   ]
  },
  {
   "cell_type": "code",
   "execution_count": 6,
   "id": "73c0da1c",
   "metadata": {},
   "outputs": [],
   "source": [
    "df.to_csv('data3.csv')"
   ]
  },
  {
   "cell_type": "code",
   "execution_count": 18,
   "id": "4902476c",
   "metadata": {},
   "outputs": [],
   "source": [
    "import csv\n",
    "csv_columns=['name','age','add']\n",
    "dict=[\n",
    "    {'name':'abc','age':23,'add':'ktm'},\n",
    "    {'name':'bcd','age':33,'add':'bir'}\n",
    "]\n",
    "csvfile=open(\"data.csv\",'w')\n",
    "writer=csv.DictWriter(csvfile,fieldnames=csv_columns)\n",
    "writer.writeheader()\n",
    "for data in dict:\n",
    "    writer.writerow(data)\n",
    "csvfile.close()"
   ]
  },
  {
   "cell_type": "code",
   "execution_count": null,
   "id": "f289614a",
   "metadata": {},
   "outputs": [],
   "source": []
  },
  {
   "cell_type": "code",
   "execution_count": 12,
   "id": "4f732728",
   "metadata": {},
   "outputs": [
    {
     "data": {
      "text/html": [
       "<div>\n",
       "<style scoped>\n",
       "    .dataframe tbody tr th:only-of-type {\n",
       "        vertical-align: middle;\n",
       "    }\n",
       "\n",
       "    .dataframe tbody tr th {\n",
       "        vertical-align: top;\n",
       "    }\n",
       "\n",
       "    .dataframe thead th {\n",
       "        text-align: right;\n",
       "    }\n",
       "</style>\n",
       "<table border=\"1\" class=\"dataframe\">\n",
       "  <thead>\n",
       "    <tr style=\"text-align: right;\">\n",
       "      <th></th>\n",
       "      <th>name</th>\n",
       "      <th>age</th>\n",
       "      <th>add</th>\n",
       "    </tr>\n",
       "  </thead>\n",
       "  <tbody>\n",
       "    <tr>\n",
       "      <th>0</th>\n",
       "      <td>ram</td>\n",
       "      <td>45</td>\n",
       "      <td>ktm</td>\n",
       "    </tr>\n",
       "    <tr>\n",
       "      <th>1</th>\n",
       "      <td>shyam</td>\n",
       "      <td>67</td>\n",
       "      <td>bkt</td>\n",
       "    </tr>\n",
       "    <tr>\n",
       "      <th>2</th>\n",
       "      <td>hari</td>\n",
       "      <td>43</td>\n",
       "      <td>ltl</td>\n",
       "    </tr>\n",
       "    <tr>\n",
       "      <th>0</th>\n",
       "      <td>hram</td>\n",
       "      <td>45</td>\n",
       "      <td>ktm</td>\n",
       "    </tr>\n",
       "    <tr>\n",
       "      <th>1</th>\n",
       "      <td>yam</td>\n",
       "      <td>67</td>\n",
       "      <td>bkt</td>\n",
       "    </tr>\n",
       "    <tr>\n",
       "      <th>2</th>\n",
       "      <td>hari</td>\n",
       "      <td>43</td>\n",
       "      <td>ltl</td>\n",
       "    </tr>\n",
       "  </tbody>\n",
       "</table>\n",
       "</div>"
      ],
      "text/plain": [
       "    name  age  add\n",
       "0    ram   45  ktm\n",
       "1  shyam   67  bkt\n",
       "2   hari   43  ltl\n",
       "0   hram   45  ktm\n",
       "1    yam   67  bkt\n",
       "2   hari   43  ltl"
      ]
     },
     "execution_count": 12,
     "metadata": {},
     "output_type": "execute_result"
    }
   ],
   "source": [
    "data1={'name':['ram','shyam','hari'],\n",
    "     'age':[45,67,43],\n",
    "     'add':['ktm','bkt','ltl']}\n",
    "df1=pd.DataFrame(data1)\n",
    "data2={'name':['hram','yam','hari'],\n",
    "     'age':[45,67,43],\n",
    "     'add':['ktm','bkt','ltl']}\n",
    "df2=pd.DataFrame(data2)\n",
    "df=pd.concat([df1,df2])\n",
    "#df=df1+df2\n",
    "df"
   ]
  },
  {
   "cell_type": "code",
   "execution_count": 13,
   "id": "fdde729f",
   "metadata": {},
   "outputs": [
    {
     "data": {
      "text/html": [
       "<div>\n",
       "<style scoped>\n",
       "    .dataframe tbody tr th:only-of-type {\n",
       "        vertical-align: middle;\n",
       "    }\n",
       "\n",
       "    .dataframe tbody tr th {\n",
       "        vertical-align: top;\n",
       "    }\n",
       "\n",
       "    .dataframe thead th {\n",
       "        text-align: right;\n",
       "    }\n",
       "</style>\n",
       "<table border=\"1\" class=\"dataframe\">\n",
       "  <thead>\n",
       "    <tr style=\"text-align: right;\">\n",
       "      <th></th>\n",
       "      <th>Name</th>\n",
       "      <th>Age</th>\n",
       "      <th>Add</th>\n",
       "    </tr>\n",
       "  </thead>\n",
       "  <tbody>\n",
       "    <tr>\n",
       "      <th>0</th>\n",
       "      <td>ram</td>\n",
       "      <td>45</td>\n",
       "      <td>ktm</td>\n",
       "    </tr>\n",
       "    <tr>\n",
       "      <th>1</th>\n",
       "      <td>shyam</td>\n",
       "      <td>67</td>\n",
       "      <td>bkt</td>\n",
       "    </tr>\n",
       "    <tr>\n",
       "      <th>2</th>\n",
       "      <td>hari</td>\n",
       "      <td>43</td>\n",
       "      <td>ltl</td>\n",
       "    </tr>\n",
       "    <tr>\n",
       "      <th>0</th>\n",
       "      <td>hram</td>\n",
       "      <td>45</td>\n",
       "      <td>ktm</td>\n",
       "    </tr>\n",
       "    <tr>\n",
       "      <th>1</th>\n",
       "      <td>yam</td>\n",
       "      <td>67</td>\n",
       "      <td>bkt</td>\n",
       "    </tr>\n",
       "    <tr>\n",
       "      <th>2</th>\n",
       "      <td>hari</td>\n",
       "      <td>43</td>\n",
       "      <td>ltl</td>\n",
       "    </tr>\n",
       "  </tbody>\n",
       "</table>\n",
       "</div>"
      ],
      "text/plain": [
       "    Name  Age  Add\n",
       "0    ram   45  ktm\n",
       "1  shyam   67  bkt\n",
       "2   hari   43  ltl\n",
       "0   hram   45  ktm\n",
       "1    yam   67  bkt\n",
       "2   hari   43  ltl"
      ]
     },
     "execution_count": 13,
     "metadata": {},
     "output_type": "execute_result"
    }
   ],
   "source": [
    "df=df.rename(columns={'name':'Name','age':'Age','add':'Add'})\n",
    "df"
   ]
  },
  {
   "cell_type": "code",
   "execution_count": 14,
   "id": "b8a44d5f",
   "metadata": {},
   "outputs": [
    {
     "data": {
      "text/plain": [
       "(6, 3)"
      ]
     },
     "execution_count": 14,
     "metadata": {},
     "output_type": "execute_result"
    }
   ],
   "source": [
    "df.shape"
   ]
  },
  {
   "cell_type": "code",
   "execution_count": 15,
   "id": "19ca2216",
   "metadata": {},
   "outputs": [
    {
     "name": "stdout",
     "output_type": "stream",
     "text": [
      "no of row= 6\n",
      "no of row= 3\n"
     ]
    }
   ],
   "source": [
    "row,col=df.shape\n",
    "print(\"no of row=\",row)\n",
    "print(\"no of col=\",col)"
   ]
  },
  {
   "cell_type": "code",
   "execution_count": 16,
   "id": "86f047c9",
   "metadata": {},
   "outputs": [
    {
     "data": {
      "text/plain": [
       "<bound method DataFrame.info of     Name  Age  Add\n",
       "0    ram   45  ktm\n",
       "1  shyam   67  bkt\n",
       "2   hari   43  ltl\n",
       "0   hram   45  ktm\n",
       "1    yam   67  bkt\n",
       "2   hari   43  ltl>"
      ]
     },
     "execution_count": 16,
     "metadata": {},
     "output_type": "execute_result"
    }
   ],
   "source": [
    "df.info"
   ]
  },
  {
   "cell_type": "code",
   "execution_count": 17,
   "id": "9d1c5e36",
   "metadata": {
    "scrolled": true
   },
   "outputs": [
    {
     "name": "stdout",
     "output_type": "stream",
     "text": [
      "<class 'pandas.core.frame.DataFrame'>\n",
      "Index: 6 entries, 0 to 2\n",
      "Data columns (total 3 columns):\n",
      " #   Column  Non-Null Count  Dtype \n",
      "---  ------  --------------  ----- \n",
      " 0   Name    6 non-null      object\n",
      " 1   Age     6 non-null      int64 \n",
      " 2   Add     6 non-null      object\n",
      "dtypes: int64(1), object(2)\n",
      "memory usage: 192.0+ bytes\n"
     ]
    }
   ],
   "source": [
    "df.info()"
   ]
  },
  {
   "cell_type": "code",
   "execution_count": null,
   "id": "7d8e3c6e",
   "metadata": {},
   "outputs": [],
   "source": []
  }
 ],
 "metadata": {
  "kernelspec": {
   "display_name": "Python 3 (ipykernel)",
   "language": "python",
   "name": "python3"
  },
  "language_info": {
   "codemirror_mode": {
    "name": "ipython",
    "version": 3
   },
   "file_extension": ".py",
   "mimetype": "text/x-python",
   "name": "python",
   "nbconvert_exporter": "python",
   "pygments_lexer": "ipython3",
   "version": "3.11.5"
  }
 },
 "nbformat": 4,
 "nbformat_minor": 5
}
