{
 "cells": [
  {
   "cell_type": "code",
   "execution_count": 2,
   "id": "6b6aace6",
   "metadata": {},
   "outputs": [],
   "source": [
    "#recursive function(funtion that calls itself)"
   ]
  },
  {
   "cell_type": "code",
   "execution_count": null,
   "id": "03d97f1a",
   "metadata": {},
   "outputs": [
    {
     "name": "stdout",
     "output_type": "stream",
     "text": [
      "Hello World\n",
      "Enter y for more printy\n",
      "Hello World\n"
     ]
    }
   ],
   "source": [
    "def hello():\n",
    "    print(\"Hello World\")\n",
    "    x=input(\"Enter y for more print\")\n",
    "    if x== 'y':\n",
    "        hello()\n",
    "hello()"
   ]
  },
  {
   "cell_type": "code",
   "execution_count": null,
   "id": "96172646",
   "metadata": {},
   "outputs": [],
   "source": [
    "def hello():\n",
    "    print(\"Hello World\")\n",
    "    hello()# output goes infinite loop\n",
    "hello()"
   ]
  },
  {
   "cell_type": "code",
   "execution_count": null,
   "id": "c2b74ee7",
   "metadata": {},
   "outputs": [],
   "source": [
    "#lambda function(anonymous function,function having no name,use for few line of code)\n",
    "# lambda<arguments>:<operation>"
   ]
  },
  {
   "cell_type": "code",
   "execution_count": 1,
   "id": "eef43d7b",
   "metadata": {},
   "outputs": [
    {
     "name": "stdout",
     "output_type": "stream",
     "text": [
      "25\n"
     ]
    }
   ],
   "source": [
    "x= lambda a:a**2\n",
    "print(x(5))"
   ]
  },
  {
   "cell_type": "code",
   "execution_count": null,
   "id": "4d713f1e",
   "metadata": {},
   "outputs": [],
   "source": []
  },
  {
   "cell_type": "code",
   "execution_count": 2,
   "id": "6cfc9f6f",
   "metadata": {},
   "outputs": [
    {
     "name": "stdout",
     "output_type": "stream",
     "text": [
      "Enter value l=9\n",
      "Enter value b=9\n",
      "81\n"
     ]
    }
   ],
   "source": [
    "area= lambda l,b:l*b\n",
    "l=int(input(\"Enter value l=\"))\n",
    "b=int(input(\"Enter value b=\"))\n",
    "print(area(l,b))"
   ]
  },
  {
   "cell_type": "code",
   "execution_count": 3,
   "id": "61f1e95d",
   "metadata": {},
   "outputs": [],
   "source": [
    "#filter(),map()"
   ]
  },
  {
   "cell_type": "code",
   "execution_count": 4,
   "id": "6ebf2ba8",
   "metadata": {},
   "outputs": [],
   "source": [
    "#filter()\n",
    "#list(filter(lambda<arguments>:<codition>,list))"
   ]
  },
  {
   "cell_type": "code",
   "execution_count": 6,
   "id": "0b26ed9f",
   "metadata": {},
   "outputs": [
    {
     "name": "stdout",
     "output_type": "stream",
     "text": [
      "[2, 4, 6, 8, 10]\n"
     ]
    }
   ],
   "source": [
    "l=[1,2,3,4,5,6,7,8,9,10]\n",
    "x=list(filter(lambda a:a%2==0,l))\n",
    "print(x)"
   ]
  },
  {
   "cell_type": "code",
   "execution_count": 8,
   "id": "4dad1732",
   "metadata": {},
   "outputs": [
    {
     "name": "stdout",
     "output_type": "stream",
     "text": [
      "['Apple', 'Ball', 'Fish']\n",
      "['dog', 'cat']\n"
     ]
    }
   ],
   "source": [
    "l=[\"Apple\",\"Ball\",\"dog\",\"cat\",\"Fish\"]\n",
    "x=list(filter(lambda a:a[0].isupper(),l))\n",
    "y=list(filter(lambda a:a[0].islower(),l))\n",
    "print(x)\n",
    "print(y)"
   ]
  },
  {
   "cell_type": "code",
   "execution_count": 9,
   "id": "53520263",
   "metadata": {},
   "outputs": [],
   "source": [
    "#map function\n",
    "#list(map(lambda<arguments>:<operation>,list))"
   ]
  },
  {
   "cell_type": "code",
   "execution_count": 10,
   "id": "42a946a2",
   "metadata": {},
   "outputs": [
    {
     "name": "stdout",
     "output_type": "stream",
     "text": [
      "[1, 4, 9, 16, 25, 36, 49, 64, 81, 100]\n"
     ]
    }
   ],
   "source": [
    "l=[1,2,3,4,5,6,7,8,9,10]\n",
    "x=list(map(lambda a:a**2,l))\n",
    "print(x)"
   ]
  },
  {
   "cell_type": "code",
   "execution_count": 12,
   "id": "611f5cc1",
   "metadata": {},
   "outputs": [
    {
     "name": "stdout",
     "output_type": "stream",
     "text": [
      "['APPLE', 'BALL', 'DOG', 'CAT', 'FISH']\n",
      "['apple', 'ball', 'dog', 'cat', 'fish']\n"
     ]
    }
   ],
   "source": [
    "l=[\"Apple\",\"Ball\",\"dog\",\"cat\",\"Fish\"]\n",
    "x=list(map(lambda a:a.upper(),l))\n",
    "y=list(map(lambda a:a.lower(),l))\n",
    "print(x)\n",
    "print(y)"
   ]
  },
  {
   "cell_type": "code",
   "execution_count": 17,
   "id": "bbad8167",
   "metadata": {},
   "outputs": [
    {
     "name": "stdout",
     "output_type": "stream",
     "text": [
      "[105000000.0, 210000000.0, 3150000000.0, 4200000000000.0]\n",
      "[105000000.0, 210000000.0, 3150000000.0, 4200000000000.0]\n"
     ]
    }
   ],
   "source": [
    "l=[100000000,200000000,3000000000,4000000000000]\n",
    "x=list(map(lambda a:round(a*1.05,2),l))\n",
    "y=list(map(lambda a:a+a*5/100,l))\n",
    "print(x)\n",
    "print(y)"
   ]
  },
  {
   "cell_type": "code",
   "execution_count": 18,
   "id": "f129e62c",
   "metadata": {},
   "outputs": [],
   "source": [
    "#math function"
   ]
  },
  {
   "cell_type": "code",
   "execution_count": 19,
   "id": "5da75be4",
   "metadata": {},
   "outputs": [
    {
     "name": "stdout",
     "output_type": "stream",
     "text": [
      "3.141592653589793\n"
     ]
    }
   ],
   "source": [
    "import math as m \n",
    "print(m.pi)\n",
    "print(m.e)"
   ]
  },
  {
   "cell_type": "code",
   "execution_count": 20,
   "id": "629b411a",
   "metadata": {},
   "outputs": [
    {
     "data": {
      "text/plain": [
       "0.8939966636005579"
      ]
     },
     "execution_count": 20,
     "metadata": {},
     "output_type": "execute_result"
    }
   ],
   "source": [
    "m.sin(90)"
   ]
  },
  {
   "cell_type": "code",
   "execution_count": 21,
   "id": "65314340",
   "metadata": {},
   "outputs": [
    {
     "data": {
      "text/plain": [
       "1.0"
      ]
     },
     "execution_count": 21,
     "metadata": {},
     "output_type": "execute_result"
    }
   ],
   "source": [
    "m.sin(m.pi/2) #radian value for correct output\n"
   ]
  },
  {
   "cell_type": "markdown",
   "id": "889bceb1",
   "metadata": {},
   "source": [
    "print(m.cos(m.pi/2))\n",
    "print(m.tan(m.pi/2))"
   ]
  },
  {
   "cell_type": "code",
   "execution_count": 23,
   "id": "105a5d15",
   "metadata": {},
   "outputs": [
    {
     "name": "stdout",
     "output_type": "stream",
     "text": [
      "6.123233995736766e-17\n",
      "1.633123935319537e+16\n"
     ]
    }
   ],
   "source": [
    "print(m.cos(m.pi/2)) \n",
    "print(m.tan(m.pi/2))"
   ]
  },
  {
   "cell_type": "code",
   "execution_count": null,
   "id": "7dbe29df",
   "metadata": {},
   "outputs": [],
   "source": []
  }
 ],
 "metadata": {
  "kernelspec": {
   "display_name": "Python 3 (ipykernel)",
   "language": "python",
   "name": "python3"
  },
  "language_info": {
   "codemirror_mode": {
    "name": "ipython",
    "version": 3
   },
   "file_extension": ".py",
   "mimetype": "text/x-python",
   "name": "python",
   "nbconvert_exporter": "python",
   "pygments_lexer": "ipython3",
   "version": "3.11.5"
  }
 },
 "nbformat": 4,
 "nbformat_minor": 5
}
