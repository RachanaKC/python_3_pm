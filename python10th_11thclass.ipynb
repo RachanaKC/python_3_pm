{
 "cells": [
  {
   "cell_type": "code",
   "execution_count": null,
   "id": "a34a0613",
   "metadata": {},
   "outputs": [],
   "source": []
  },
  {
   "cell_type": "code",
   "execution_count": null,
   "id": "3564fd8a",
   "metadata": {},
   "outputs": [],
   "source": [
    "# list inside list"
   ]
  },
  {
   "cell_type": "code",
   "execution_count": 2,
   "id": "17aa38e6",
   "metadata": {},
   "outputs": [
    {
     "name": "stdout",
     "output_type": "stream",
     "text": [
      "[[1, 2, 3], [4, 5, 6], [7, 8, 9]]\n"
     ]
    }
   ],
   "source": [
    "a = [[1,2,3],\n",
    "    [4,5,6],\n",
    "    [7,8,9]]\n",
    "print(a)"
   ]
  },
  {
   "cell_type": "code",
   "execution_count": 4,
   "id": "8f7e3a07",
   "metadata": {},
   "outputs": [
    {
     "data": {
      "text/plain": [
       "[['Ram', 45, 'Kathmand'], ['Shyam', 67, 'Bhaktapur'], ['Hari', 65, 'Lalitpur']]"
      ]
     },
     "execution_count": 4,
     "metadata": {},
     "output_type": "execute_result"
    }
   ],
   "source": [
    "a = [['Ram',45,'Kathmand'],\n",
    "    ['Shyam',67,'Bhaktapur'],\n",
    "    ['Hari',65,'Lalitpur']]\n",
    "a"
   ]
  },
  {
   "cell_type": "code",
   "execution_count": 5,
   "id": "1f2159ae",
   "metadata": {},
   "outputs": [
    {
     "name": "stdout",
     "output_type": "stream",
     "text": [
      "Kathmand\n",
      "45\n"
     ]
    }
   ],
   "source": [
    "a = [['Ram',45,'Kathmand'],\n",
    "    ['Shyam',67,'Bhaktapur'],\n",
    "    ['Hari',65,'Lalitpur']]\n",
    "print(a[0][2])\n",
    "print(a[0][1])\n"
   ]
  },
  {
   "cell_type": "code",
   "execution_count": 10,
   "id": "de0d1896",
   "metadata": {},
   "outputs": [
    {
     "name": "stdout",
     "output_type": "stream",
     "text": [
      "Enter n = 1\n",
      "Enter name = r\n",
      "Enter age = 5\n",
      "Enter add = h\n",
      "[['r', 5, 'h']]\n"
     ]
    }
   ],
   "source": [
    "l = []\n",
    "n = int(input(\"Enter n = \"))\n",
    "for i in range(n):\n",
    "    name = input(\"Enter name = \")\n",
    "    age = int(input(\"Enter age = \"))\n",
    "    add = input(\"Enter add = \")\n",
    "    x = [name,age,add]\n",
    "    l.append(x)\n",
    "print(l)"
   ]
  },
  {
   "cell_type": "code",
   "execution_count": 13,
   "id": "c23eb14e",
   "metadata": {},
   "outputs": [
    {
     "name": "stdout",
     "output_type": "stream",
     "text": [
      "[['Ram', 34, 'Kathmandu'], ['Bharat', 34, 'Kathmandu'], ['Hari', 23, 'Lalitpur']]\n",
      "[['Ram', 34, 'Kathmandu'], ['Bharat', 34, 'Kathmandu']]\n"
     ]
    }
   ],
   "source": [
    "l = [['Ram', 34, 'Kathmandu'], ['Bharat', 34, 'Kathmandu']]\n",
    "l.append([\"Hari\",23,\"Lalitpur\"])\n",
    "print(l)\n",
    "del l[2]\n",
    "print(l)"
   ]
  },
  {
   "cell_type": "code",
   "execution_count": 14,
   "id": "d8ca7bd0",
   "metadata": {},
   "outputs": [
    {
     "name": "stdout",
     "output_type": "stream",
     "text": [
      "Enter name = Ram\n",
      "['Ram', 34, 'Kathmandu']\n",
      "['Ram', 23, 'Lalitpur']\n"
     ]
    }
   ],
   "source": [
    "# search\n",
    "l = [['Ram', 34, 'Kathmandu'],\n",
    "     ['Bharat', 34, 'Kathmandu'],\n",
    "     ['Ram', 23, 'Lalitpur']]\n",
    "\n",
    "name = input(\"Enter name = \")\n",
    "for i in l:\n",
    "    if name in i:\n",
    "        print(i)"
   ]
  },
  {
   "cell_type": "code",
   "execution_count": 15,
   "id": "fc51659d",
   "metadata": {},
   "outputs": [
    {
     "name": "stdout",
     "output_type": "stream",
     "text": [
      "Yes\n"
     ]
    }
   ],
   "source": [
    "a = [[\"Apple\"],[\"Ball\"],[\"Cat\"]]\n",
    "for i in a:\n",
    "    if \"Apple\" in i:\n",
    "        print(\"Yes\")"
   ]
  },
  {
   "cell_type": "code",
   "execution_count": 16,
   "id": "e87ba982",
   "metadata": {},
   "outputs": [
    {
     "data": {
      "text/plain": [
       "['Rama', 34, 'Kathmandu']"
      ]
     },
     "execution_count": 16,
     "metadata": {},
     "output_type": "execute_result"
    }
   ],
   "source": [
    "#Update\n",
    "l = ['Ram', 34, 'Kathmandu']\n",
    "l[0] = \"Rama\"\n",
    "l"
   ]
  },
  {
   "cell_type": "code",
   "execution_count": 17,
   "id": "08dd1ab5",
   "metadata": {},
   "outputs": [
    {
     "data": {
      "text/plain": [
       "[['Rama', 34, 'Kathmandu'],\n",
       " ['Bharat', 34, 'Kathmandu'],\n",
       " ['Ram', 23, 'Lalitpur']]"
      ]
     },
     "execution_count": 17,
     "metadata": {},
     "output_type": "execute_result"
    }
   ],
   "source": [
    "l = [['Ram', 34, 'Kathmandu'],\n",
    "     ['Bharat', 34, 'Kathmandu'],\n",
    "     ['Ram', 23, 'Lalitpur']]\n",
    "l[0][0] = \"Rama\"\n",
    "l"
   ]
  },
  {
   "cell_type": "code",
   "execution_count": null,
   "id": "83ed4454",
   "metadata": {},
   "outputs": [],
   "source": [
    "# WAP to create a matrix by taking input from user\n",
    "# r -> ?\n",
    "# c -> ?\n",
    "# x -> [[1,2,3],[4,5,6],[8,9,0]]\n",
    "#y  -> []"
   ]
  },
  {
   "cell_type": "code",
   "execution_count": 2,
   "id": "5851f10d",
   "metadata": {},
   "outputs": [
    {
     "name": "stdout",
     "output_type": "stream",
     "text": [
      "Enter r = 2\n",
      "Enter c = 3\n",
      "Enter z = 9\n",
      "Enter z = 8\n",
      "Enter z = 7\n",
      "Enter z = 6\n",
      "Enter z = 5\n",
      "Enter z = 4\n",
      "[7, 4]\n"
     ]
    }
   ],
   "source": [
    "x = []\n",
    "r = int(input(\"Enter r = \"))\n",
    "c = int(input(\"Enter c = \"))\n",
    "for i in range(r):\n",
    "    y = []\n",
    "    for j in range(c):\n",
    "        z = int(input(\"Enter z = \"))\n",
    "        y.append(z)\n",
    "    x.append(y)\n",
    "print(x)"
   ]
  },
  {
   "cell_type": "code",
   "execution_count": null,
   "id": "3812f401",
   "metadata": {},
   "outputs": [],
   "source": []
  },
  {
   "cell_type": "code",
   "execution_count": null,
   "id": "5fdd1f56",
   "metadata": {},
   "outputs": [],
   "source": [
    "#di tionary\n",
    "#Indexing\n",
    "#ordered\n",
    "#multiple and duplicate date\n",
    "#mutable"
   ]
  },
  {
   "cell_type": "code",
   "execution_count": null,
   "id": "8ae53e86",
   "metadata": {},
   "outputs": [],
   "source": [
    "#d={,key:value>,<key>:<value>}"
   ]
  },
  {
   "cell_type": "code",
   "execution_count": 5,
   "id": "344d2a0f",
   "metadata": {},
   "outputs": [
    {
     "name": "stdout",
     "output_type": "stream",
     "text": [
      "<class 'dict'>\n",
      "apple\n"
     ]
    }
   ],
   "source": [
    "d={'a':'apple','b':'ball'}\n",
    "print(type(d))\n",
    "print(d['a'])"
   ]
  },
  {
   "cell_type": "code",
   "execution_count": null,
   "id": "f178ed2f",
   "metadata": {},
   "outputs": [],
   "source": []
  },
  {
   "cell_type": "code",
   "execution_count": 9,
   "id": "cd6246a7",
   "metadata": {},
   "outputs": [
    {
     "name": "stdout",
     "output_type": "stream",
     "text": [
      "<class 'dict'>\n",
      "rat\n",
      "dog\n"
     ]
    }
   ],
   "source": [
    "d={'a':'apple','b':'ball','b':'rat','B':'dog'}#b of ball repace by rat so it shows mutable property\n",
    "print(type(d))\n",
    "print(d['b'])\n",
    "print(d['B'])"
   ]
  },
  {
   "cell_type": "code",
   "execution_count": 14,
   "id": "62b9c0f8",
   "metadata": {},
   "outputs": [
    {
     "name": "stdout",
     "output_type": "stream",
     "text": [
      "{'a': 'apple', 'b': 'rat', 'B': 'dog', '1': 'apple', '2': 'ball', '3': 'rat', '4': 'dog'}\n"
     ]
    }
   ],
   "source": [
    "d={'a':'apple','b':'ball','b':'rat','B':'dog'}\n",
    "c={'1':'apple','2':'ball','3':'rat','4':'dog'}\n",
    "#e=c+d\n",
    "d.update(c)\n",
    "#print(e)shows error curly brases couldnot concat\n",
    "print(d)"
   ]
  },
  {
   "cell_type": "code",
   "execution_count": 21,
   "id": "6aac6fd4",
   "metadata": {},
   "outputs": [
    {
     "name": "stdout",
     "output_type": "stream",
     "text": [
      "a b B "
     ]
    }
   ],
   "source": [
    "a={'a':'apple','b':'ball','b':'rat','B':'dog'}\n",
    "for i in a:\n",
    "    print(i, end=\" \")\n",
    "  "
   ]
  },
  {
   "cell_type": "code",
   "execution_count": 17,
   "id": "34481d4a",
   "metadata": {},
   "outputs": [
    {
     "name": "stdout",
     "output_type": "stream",
     "text": [
      "apple rat dog "
     ]
    }
   ],
   "source": [
    "a={'a':'apple','b':'ball','b':'rat','B':'dog'}\n",
    "for i in a.values():\n",
    "    print(i, end=\" \")"
   ]
  },
  {
   "cell_type": "code",
   "execution_count": 18,
   "id": "bd508e79",
   "metadata": {},
   "outputs": [
    {
     "name": "stdout",
     "output_type": "stream",
     "text": [
      "('a', 'apple') ('b', 'rat') ('B', 'dog') "
     ]
    }
   ],
   "source": [
    "a={'a':'apple','b':'ball','b':'rat','B':'dog'}\n",
    "for i in a.items():\n",
    "    print(i, end=\" \")"
   ]
  },
  {
   "cell_type": "code",
   "execution_count": 24,
   "id": "2a246c71",
   "metadata": {},
   "outputs": [
    {
     "data": {
      "text/plain": [
       "{'a': 'Apple', 'b': 'Ball', 'c': 'at'}"
      ]
     },
     "execution_count": 24,
     "metadata": {},
     "output_type": "execute_result"
    }
   ],
   "source": [
    "#create\n",
    "#d=dict()\n",
    "d={}\n",
    "d['a']=\"Apple\"\n",
    "d['b']=\"Ball\"\n",
    "d['c']=\"Cat\"\n",
    "#d['c']=\"at\"\n",
    "d"
   ]
  },
  {
   "cell_type": "code",
   "execution_count": 26,
   "id": "af140722",
   "metadata": {},
   "outputs": [
    {
     "data": {
      "text/plain": [
       "{'a': 'Ant', 'b': 'Ball', 'c': 'at'}"
      ]
     },
     "execution_count": 26,
     "metadata": {},
     "output_type": "execute_result"
    }
   ],
   "source": [
    "#update\n",
    "a={'a': 'Apple', 'b': 'Ball', 'c': 'at'}\n",
    "d['a']='Ant'#changed value of a\n",
    "d"
   ]
  },
  {
   "cell_type": "code",
   "execution_count": 28,
   "id": "5719ebe0",
   "metadata": {},
   "outputs": [
    {
     "name": "stdout",
     "output_type": "stream",
     "text": [
      "{'b': 'Ball', 'c': 'at'}\n"
     ]
    }
   ],
   "source": [
    "#delete(del,pop())\n",
    "a={'a': 'Apple', 'b': 'Ball', 'c': 'at'}\n",
    "del a['a']\n",
    "print(a)\n"
   ]
  },
  {
   "cell_type": "code",
   "execution_count": 30,
   "id": "bffc2541",
   "metadata": {},
   "outputs": [
    {
     "name": "stdout",
     "output_type": "stream",
     "text": [
      "Apple\n",
      "{'b': 'Ball', 'c': 'at'}\n"
     ]
    }
   ],
   "source": [
    "a={'a': 'Apple', 'b': 'Ball', 'c': 'at'}\n",
    "b=a.pop('a')\n",
    "print(b)\n",
    "print(a)"
   ]
  },
  {
   "cell_type": "code",
   "execution_count": 31,
   "id": "cc544f27",
   "metadata": {},
   "outputs": [
    {
     "data": {
      "text/plain": [
       "{'Ram': 9800000, 'Shyam': 970000, 'Hari': 960000}"
      ]
     },
     "execution_count": 31,
     "metadata": {},
     "output_type": "execute_result"
    }
   ],
   "source": [
    "#list inside dict\n",
    "info={'Ram':9800000,'Shyam':970000,'Hari':960000}\n",
    "info"
   ]
  },
  {
   "cell_type": "code",
   "execution_count": 34,
   "id": "aacf03c3",
   "metadata": {},
   "outputs": [
    {
     "data": {
      "text/plain": [
       "{'Ram': [9800000, 9845000],\n",
       " 'Shyam': [970000, 984100],\n",
       " 'Hari': [960000, 984200]}"
      ]
     },
     "execution_count": 34,
     "metadata": {},
     "output_type": "execute_result"
    }
   ],
   "source": [
    "info={'Ram': [9800000,9845000],\n",
    "      'Shyam': [970000,984100],\n",
    "      'Hari': [960000,984200]}\n",
    "info"
   ]
  },
  {
   "cell_type": "code",
   "execution_count": 37,
   "id": "38cac3d5",
   "metadata": {},
   "outputs": [
    {
     "name": "stdout",
     "output_type": "stream",
     "text": [
      "[9800000, 9845000]\n"
     ]
    },
    {
     "data": {
      "text/plain": [
       "9800000"
      ]
     },
     "execution_count": 37,
     "metadata": {},
     "output_type": "execute_result"
    }
   ],
   "source": [
    "info={'Ram': [9800000,9845000],\n",
    "      'Shyam': [970000,984100],\n",
    "      'Hari': [960000,984200]}\n",
    "print(info['Ram'])\n",
    "info['Ram'][0]"
   ]
  },
  {
   "cell_type": "code",
   "execution_count": 38,
   "id": "16a01c6f",
   "metadata": {},
   "outputs": [
    {
     "data": {
      "text/plain": [
       "{'Ram': [987000, 9845000], 'Shyam': [970000, 984100], 'Hari': [960000, 984200]}"
      ]
     },
     "execution_count": 38,
     "metadata": {},
     "output_type": "execute_result"
    }
   ],
   "source": [
    "info['Ram'][0]=987000\n",
    "info"
   ]
  },
  {
   "cell_type": "code",
   "execution_count": 39,
   "id": "23e0d471",
   "metadata": {},
   "outputs": [],
   "source": [
    "del info['Ram'][0]"
   ]
  },
  {
   "cell_type": "code",
   "execution_count": null,
   "id": "0cc2b8c5",
   "metadata": {},
   "outputs": [],
   "source": [
    "x = []\n",
    "r = int(input(\"Enter r = \"))\n",
    "c = int(input(\"Enter c = \"))\n",
    "for i in range(r):\n",
    "    y = []\n",
    "    for j in range(c):\n",
    "        z = int(input(\"Enter z = \"))\n",
    "        w = int(input(\"Enter w = \"))\n",
    "        y.append(z,w)\n",
    "    x.append(y)\n",
    "print(x)"
   ]
  },
  {
   "cell_type": "code",
   "execution_count": null,
   "id": "fa860974",
   "metadata": {},
   "outputs": [],
   "source": []
  },
  {
   "cell_type": "code",
   "execution_count": null,
   "id": "a9e72f02",
   "metadata": {},
   "outputs": [
    {
     "name": "stdout",
     "output_type": "stream",
     "text": [
      "Enter n=2\n",
      "Enter name = name\n"
     ]
    }
   ],
   "source": [
    "d={}\n",
    "n=int(input(\"Enter n=\"))\n",
    "for i in range(n):\n",
    "    name= input(\"Enter name = \")\n",
    "    ntc = input(\"Enter ntc no = \")\n",
    "    ncell =input(\"Enter ncell no= \")\n",
    "    d[name]=[ntc,ncell]\n",
    "print(d)"
   ]
  },
  {
   "cell_type": "code",
   "execution_count": null,
   "id": "65e5286c",
   "metadata": {},
   "outputs": [],
   "source": []
  },
  {
   "cell_type": "code",
   "execution_count": 1,
   "id": "1c76198c",
   "metadata": {},
   "outputs": [
    {
     "name": "stdout",
     "output_type": "stream",
     "text": [
      "Enter n=2\n",
      "Enter key = name\n",
      "Enter name = Ram\n",
      "Enter ntc no = 899\n",
      "Enter ncell no= 900\n",
      "Enter key = shyam\n",
      "Enter name = 677\n",
      "Enter ntc no = 7888\n",
      "Enter ncell no= 899\n",
      "{'name': ['Ram', '899', '900'], 'shyam': ['677', '7888', '899']}\n"
     ]
    }
   ],
   "source": [
    "d={}\n",
    "n=int(input(\"Enter n=\"))\n",
    "for i in range(n):\n",
    "    key= input(\"Enter key = \")\n",
    "    name= input(\"Enter name = \")\n",
    "    ntc = input(\"Enter ntc no = \")\n",
    "    ncell =input(\"Enter ncell no= \")\n",
    "    d[key]=[name,ntc,ncell]\n",
    "print(d)"
   ]
  },
  {
   "cell_type": "code",
   "execution_count": 5,
   "id": "b40181a7",
   "metadata": {},
   "outputs": [
    {
     "name": "stdout",
     "output_type": "stream",
     "text": [
      "Enter r = 2\n",
      "Enter c = 2\n",
      "Enter name = name\n",
      "Enter ntc = 56\n",
      "Enter ncell = 56\n",
      "Enter name = t\n",
      "Enter ntc = 89\n",
      "Enter ncell = 90\n",
      "Enter name = ui\n",
      "Enter ntc = 9\n",
      "Enter ncell = 9\n",
      "Enter name = 90\n",
      "Enter ntc = 89\n",
      "Enter ncell = 0\n",
      "{'name': ['56', '56'], 't': ['89', '90'], 'ui': ['9', '9'], '90': ['89', '0']}\n"
     ]
    }
   ],
   "source": [
    "#d={'name':[\"Ram\",\"Shyam\"],\n",
    " # 'ntc':[9800,9700],\n",
    " # 'ncell':[9800,9700]}\n",
    "#print(d['name'][0],d['ntc'][0],d['ncell'][0])\n",
    "\n",
    "\n",
    "d = {}\n",
    "r = int(input(\"Enter r = \"))\n",
    "c = int(input(\"Enter c = \"))\n",
    "for i in range(r):\n",
    "    y = {}\n",
    "    for j in range(c):\n",
    "        name =input(\"Enter name = \")\n",
    "        ntc = input(\"Enter ntc = \")\n",
    "        ncell = input(\"Enter ncell = \")\n",
    "        d[name]= [ntc,ncell]\n",
    "print(d)\n",
    "\n",
    "\n"
   ]
  },
  {
   "cell_type": "code",
   "execution_count": null,
   "id": "70d35170",
   "metadata": {},
   "outputs": [],
   "source": []
  },
  {
   "cell_type": "code",
   "execution_count": 16,
   "id": "1f223ad7",
   "metadata": {},
   "outputs": [
    {
     "name": "stdout",
     "output_type": "stream",
     "text": [
      "Enter n=1\n",
      "Enter key = g\n"
     ]
    },
    {
     "ename": "TypeError",
     "evalue": "'dict' object is not callable",
     "output_type": "error",
     "traceback": [
      "\u001b[1;31m---------------------------------------------------------------------------\u001b[0m",
      "\u001b[1;31mTypeError\u001b[0m                                 Traceback (most recent call last)",
      "Cell \u001b[1;32mIn[16], line 5\u001b[0m\n\u001b[0;32m      3\u001b[0m \u001b[38;5;28;01mfor\u001b[39;00m i \u001b[38;5;129;01min\u001b[39;00m \u001b[38;5;28mrange\u001b[39m(n):\n\u001b[0;32m      4\u001b[0m     keyname\u001b[38;5;241m=\u001b[39m \u001b[38;5;28minput\u001b[39m(\u001b[38;5;124m\"\u001b[39m\u001b[38;5;124mEnter key = \u001b[39m\u001b[38;5;124m\"\u001b[39m)\n\u001b[1;32m----> 5\u001b[0m     d(keyname)\n\u001b[0;32m      6\u001b[0m \u001b[38;5;28mprint\u001b[39m(d)\n",
      "\u001b[1;31mTypeError\u001b[0m: 'dict' object is not callable"
     ]
    }
   ],
   "source": [
    "d={}\n",
    "n=int(input(\"Enter n=\"))\n",
    "for i in range(n):\n",
    "    keyname= input(\"Enter key = \")\n",
    "    dkeyname)\n",
    "print(d)"
   ]
  },
  {
   "cell_type": "code",
   "execution_count": 1,
   "id": "3b4f5cfc",
   "metadata": {},
   "outputs": [
    {
     "name": "stdout",
     "output_type": "stream",
     "text": [
      "Enter r = 1\n",
      "Enter c = 3\n",
      "Enter key = Name\n",
      "Enter name = r\n",
      "Enter ntc = 1\n",
      "Enter ncell = 2\n"
     ]
    },
    {
     "ename": "KeyError",
     "evalue": "0",
     "output_type": "error",
     "traceback": [
      "\u001b[1;31m---------------------------------------------------------------------------\u001b[0m",
      "\u001b[1;31mKeyError\u001b[0m                                  Traceback (most recent call last)",
      "Cell \u001b[1;32mIn[1], line 13\u001b[0m\n\u001b[0;32m     11\u001b[0m  y\u001b[38;5;241m.\u001b[39mappend(keyname)\n\u001b[0;32m     12\u001b[0m \u001b[38;5;66;03m# y.update({keyname:name},{keyname:ntc},{keyname:ncell})\u001b[39;00m\n\u001b[1;32m---> 13\u001b[0m  x[\u001b[38;5;241m0\u001b[39m][\u001b[38;5;241m0\u001b[39m]\u001b[38;5;241m.\u001b[39mupdate({y[\u001b[38;5;241m0\u001b[39m][\u001b[38;5;241m0\u001b[39m]:name})\n\u001b[0;32m     14\u001b[0m  x[\u001b[38;5;241m0\u001b[39m][\u001b[38;5;241m1\u001b[39m]\u001b[38;5;241m.\u001b[39mupdate({y[\u001b[38;5;241m0\u001b[39m][\u001b[38;5;241m1\u001b[39m]:ntc})\n\u001b[0;32m     15\u001b[0m  x[\u001b[38;5;241m0\u001b[39m][\u001b[38;5;241m2\u001b[39m]\u001b[38;5;241m.\u001b[39mupdate({y[\u001b[38;5;241m0\u001b[39m][\u001b[38;5;241m2\u001b[39m]:ncell})\n",
      "\u001b[1;31mKeyError\u001b[0m: 0"
     ]
    }
   ],
   "source": [
    "x = {}\n",
    "r = int(input(\"Enter r = \"))\n",
    "c = int(input(\"Enter c = \"))\n",
    "for i in range(r):\n",
    "    y = []\n",
    "    for j in range(c):\n",
    "        keyname = input(\"Enter key = \")\n",
    "        name =input(\"Enter name = \")\n",
    "        ntc = input(\"Enter ntc = \")\n",
    "        ncell = input(\"Enter ncell = \")\n",
    "        y.append(keyname)\n",
    "       # y.update({keyname:name},{keyname:ntc},{keyname:ncell})\n",
    "        x[0][0].update({y[0][0]:name})\n",
    "        x[0][1].update({y[0][1]:ntc})\n",
    "        x[0][2].update({y[0][2]:ncell})\n",
    "#print(y)\n",
    "print(x)"
   ]
  },
  {
   "cell_type": "code",
   "execution_count": 3,
   "id": "65507d8a",
   "metadata": {},
   "outputs": [
    {
     "name": "stdout",
     "output_type": "stream",
     "text": [
      "Enter n = 2\n",
      "Enter name = ra\n",
      "Enter ntc = 0\n",
      "Enter ncell = 9\n",
      "Enter name = na\n",
      "Enter ntc = 9\n",
      "Enter ncell = 8\n",
      "Enter name = n\n",
      "Enter ntc = p\n",
      "Enter ncell = 0\n",
      "Enter name = 2\n",
      "Enter ntc = 2\n",
      "Enter ncell = 2\n",
      "{'name': ['ra', 'na', 'n', '2'], 'ntc': ['0', '9', 'p', '2'], 'ncell': ['9', '8', '0', '2']}\n"
     ]
    }
   ],
   "source": [
    "d = {'name':[],\n",
    "    'ntc':[],\n",
    "    'ncell':[]}\n",
    "n= int(input(\"Enter n = \"))\n",
    "for i in range(n):\n",
    "        name =input(\"Enter name = \")\n",
    "        ntc = input(\"Enter ntc = \")\n",
    "        ncell = input(\"Enter ncell = \")\n",
    "        d['name'].append(name)\n",
    "        d['ntc'].append(ntc)\n",
    "        d['ncell'].append(ncell)\n",
    "print(d)"
   ]
  },
  {
   "cell_type": "code",
   "execution_count": null,
   "id": "92fe11bc",
   "metadata": {},
   "outputs": [],
   "source": []
  },
  {
   "cell_type": "code",
   "execution_count": null,
   "id": "3ac7ff41",
   "metadata": {},
   "outputs": [],
   "source": []
  }
 ],
 "metadata": {
  "kernelspec": {
   "display_name": "Python 3 (ipykernel)",
   "language": "python",
   "name": "python3"
  },
  "language_info": {
   "codemirror_mode": {
    "name": "ipython",
    "version": 3
   },
   "file_extension": ".py",
   "mimetype": "text/x-python",
   "name": "python",
   "nbconvert_exporter": "python",
   "pygments_lexer": "ipython3",
   "version": "3.11.5"
  }
 },
 "nbformat": 4,
 "nbformat_minor": 5
}
