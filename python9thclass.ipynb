{
 "cells": [
  {
   "cell_type": "code",
   "execution_count": null,
   "id": "6a7bc67c",
   "metadata": {},
   "outputs": [],
   "source": [
    "i=0\n",
    "index_list=[]\n",
    "text = 'Hello World asdf nnm!'\n",
    "for e in text:\n",
    "    while e.isspace() == True:\n",
    "        index = text.find(e)\n",
    "        print(index)\n",
    "        i=i+1\n",
    "        index_list.append(index)\n",
    "        print(index_list)"
   ]
  },
  {
   "cell_type": "code",
   "execution_count": null,
   "id": "73a03a60",
   "metadata": {},
   "outputs": [],
   "source": [
    "#python data collection\n",
    "#List\n",
    "#Tuple\n",
    "#Dict\n",
    "#set"
   ]
  },
  {
   "cell_type": "code",
   "execution_count": null,
   "id": "bccf600b",
   "metadata": {},
   "outputs": [],
   "source": [
    "#list\n",
    "-Indexing\n",
    "-multiple and duplicate data\n",
    "-ordered\n",
    "-mutable"
   ]
  },
  {
   "cell_type": "code",
   "execution_count": 1,
   "id": "06563f35",
   "metadata": {},
   "outputs": [
    {
     "name": "stdout",
     "output_type": "stream",
     "text": [
      "<class 'list'>\n",
      "<class 'list'>\n"
     ]
    }
   ],
   "source": [
    "#l=List()\n",
    "l=[\"ABC\",\"CDA\",\"AS\"]\n",
    "a=[1,2,3,4]\n",
    "print(type(l))\n",
    "print(type(a))"
   ]
  },
  {
   "cell_type": "code",
   "execution_count": 9,
   "id": "c7a2ab57",
   "metadata": {},
   "outputs": [
    {
     "name": "stdout",
     "output_type": "stream",
     "text": [
      "['ABC', 'CDA', 'AS', 'TH', 'AVC', 'AS']\n",
      "ABC\n",
      "['ABC', 'CDA', 'AS', 'TH']\n",
      "['ABC', 'AS']\n"
     ]
    }
   ],
   "source": [
    "l=[\"ABC\",\"CDA\",\"AS\",\"TH\",\"AVC\",\"AS\"]#can support duplicate value\n",
    "print(l)#follow ordered\n",
    "print(l[0])\n",
    "print(l[0:4])\n",
    "print(l[0:4:2])"
   ]
  },
  {
   "cell_type": "code",
   "execution_count": 11,
   "id": "e4a1f66d",
   "metadata": {},
   "outputs": [
    {
     "name": "stdout",
     "output_type": "stream",
     "text": [
      "[1, 2, 3, 4, 1, 2, 3, 4]\n",
      "[1, 2, 3, 4, 5, 6]\n"
     ]
    }
   ],
   "source": [
    "l=[1,2,3]\n",
    "b=[4,5,6]\n",
    "c=l+b\n",
    "print(a*2)#enlargement\n",
    "print(c)"
   ]
  },
  {
   "cell_type": "code",
   "execution_count": 14,
   "id": "32caa283",
   "metadata": {},
   "outputs": [
    {
     "name": "stdout",
     "output_type": "stream",
     "text": [
      "ABC\n",
      "CDA\n",
      "AS\n",
      "TH\n",
      "AVC\n",
      "AS\n"
     ]
    }
   ],
   "source": [
    "l=[\"ABC\",\"CDA\",\"AS\",\"TH\",\"AVC\",\"AS\"]\n",
    "for i in l:\n",
    "    print(i)"
   ]
  },
  {
   "cell_type": "code",
   "execution_count": 16,
   "id": "5fb9171f",
   "metadata": {},
   "outputs": [
    {
     "name": "stdout",
     "output_type": "stream",
     "text": [
      "Enter search=AS\n",
      "Yes\n",
      "2\n"
     ]
    }
   ],
   "source": [
    "l=[\"ABC\",\"CDA\",\"AS\",\"TH\",\"AVC\",\"AS\"]\n",
    "search=input(\"Enter search=\")\n",
    "if search in l:\n",
    "    print(\"Yes\")\n",
    "    print(l.count(search))\n",
    "else:\n",
    "        print(\"No\")"
   ]
  },
  {
   "cell_type": "code",
   "execution_count": 17,
   "id": "cc50fce3",
   "metadata": {},
   "outputs": [
    {
     "name": "stdout",
     "output_type": "stream",
     "text": [
      "['Apple', 'Orange', 'Ball']\n"
     ]
    }
   ],
   "source": [
    "#append(),extend(),insert()\n",
    "a=[]\n",
    "a.append(\"Apple\")\n",
    "a.append(\"Orange\")\n",
    "a.append(\"Ball\")\n",
    "print(a)# it shows mutable property\n"
   ]
  },
  {
   "cell_type": "code",
   "execution_count": 20,
   "id": "4637c1eb",
   "metadata": {},
   "outputs": [
    {
     "name": "stdout",
     "output_type": "stream",
     "text": [
      "Enter n=1\n",
      "Enter value=2\n",
      "[2]\n"
     ]
    }
   ],
   "source": [
    "l=[]\n",
    "n=int(input(\"Enter n=\"))\n",
    "for i in range(n):\n",
    "    x=int(input(\"Enter value=\"))\n",
    "    l.append(x) \n",
    "print(l)"
   ]
  },
  {
   "cell_type": "markdown",
   "id": "fad87ad9",
   "metadata": {},
   "source": [
    "l=[1,2,3,4,5]\n",
    "print(\"Max value=\",max(l))\n",
    "print(\"Min value=\",min(l))\n",
    "print(\"sum value=\",sum(l))\n",
    "l.sort()\n",
    "print(l)"
   ]
  },
  {
   "cell_type": "code",
   "execution_count": 22,
   "id": "7620f13d",
   "metadata": {},
   "outputs": [
    {
     "name": "stdout",
     "output_type": "stream",
     "text": [
      "Max value= 11\n",
      "Min value= 2\n",
      "sum value= 25\n",
      "[2, 3, 4, 5, 11]\n"
     ]
    }
   ],
   "source": [
    "l=[11,2,3,4,5]\n",
    "print(\"Max value=\",max(l)) \n",
    "print(\"Min value=\",min(l))\n",
    "print(\"sum value=\",sum(l))\n",
    "l.sort() \n",
    "print(l)"
   ]
  },
  {
   "cell_type": "code",
   "execution_count": 25,
   "id": "27063cb9",
   "metadata": {},
   "outputs": [
    {
     "name": "stdout",
     "output_type": "stream",
     "text": [
      "['apple', 'ball', 'cat', 'hat']\n",
      "['Ball', 'cat', 'hat', 'apple']\n"
     ]
    }
   ],
   "source": [
    "a=[\"ball\",\"cat\",\"hat\",\"apple\"]\n",
    "b=[\"Ball\",\"cat\",\"hat\",\"apple\"]#case sensative\n",
    "a.sort()\n",
    "print(a)\n",
    "print(b)"
   ]
  },
  {
   "cell_type": "code",
   "execution_count": 26,
   "id": "0ad4d72f",
   "metadata": {},
   "outputs": [
    {
     "name": "stdout",
     "output_type": "stream",
     "text": [
      "['ball', 'Zebra', 'cat', 'hat', 'apple']\n"
     ]
    }
   ],
   "source": [
    "a=[\"ball\",\"cat\",\"hat\",\"apple\"]\n",
    "a.insert(1,\"Zebra\")\n",
    "print(a)"
   ]
  },
  {
   "cell_type": "code",
   "execution_count": 27,
   "id": "df561091",
   "metadata": {},
   "outputs": [
    {
     "name": "stdout",
     "output_type": "stream",
     "text": [
      "[1, 2, 3, 4, 6, 7, 8, 9]\n"
     ]
    }
   ],
   "source": [
    "a=[1,2,3,4]\n",
    "b=[6,7,8,9]\n",
    "a.extend(b)\n",
    "print(a)"
   ]
  },
  {
   "cell_type": "code",
   "execution_count": 28,
   "id": "d72c7f6e",
   "metadata": {},
   "outputs": [
    {
     "name": "stdout",
     "output_type": "stream",
     "text": [
      "['cat', 'hat', 'apple']\n"
     ]
    }
   ],
   "source": [
    "#del,remove(),pop()\n",
    "a=[\"ball\",\"cat\",\"hat\",\"apple\"]\n",
    "del a[0]\n",
    "print(a)"
   ]
  },
  {
   "cell_type": "code",
   "execution_count": 30,
   "id": "9fc6052f",
   "metadata": {},
   "outputs": [
    {
     "name": "stdout",
     "output_type": "stream",
     "text": [
      "['apple']\n"
     ]
    }
   ],
   "source": [
    "a=[\"ball\",\"cat\",\"hat\",\"apple\"]\n",
    "del a[0:3]\n",
    "print(a)"
   ]
  },
  {
   "cell_type": "code",
   "execution_count": 42,
   "id": "1e18e51f",
   "metadata": {},
   "outputs": [
    {
     "name": "stdout",
     "output_type": "stream",
     "text": [
      "['cat', 'hat', 'apple']\n"
     ]
    }
   ],
   "source": [
    "a=[\"ball\",\"cat\",\"hat\",\"apple\",\"ball\"]\n",
    "for i in range(a.count(\"ball\")):\n",
    "    a.remove(\"ball\")\n",
    "print(a)"
   ]
  },
  {
   "cell_type": "code",
   "execution_count": 3,
   "id": "595a83d7",
   "metadata": {},
   "outputs": [
    {
     "name": "stdout",
     "output_type": "stream",
     "text": [
      "0\n",
      "4\n",
      "5\n"
     ]
    }
   ],
   "source": [
    "a=[\"ball\",\"cat\",\"hat\",\"apple\",\"ball\",\"ball\"]\n",
    "c=len(a)\n",
    "for i in range(c):\n",
    "    if \"ball\"==a[i]:\n",
    "        print(i)"
   ]
  },
  {
   "cell_type": "code",
   "execution_count": 1,
   "id": "177a2917",
   "metadata": {},
   "outputs": [
    {
     "name": "stdout",
     "output_type": "stream",
     "text": [
      "4\n",
      "8\n",
      "12\n",
      "18\n"
     ]
    }
   ],
   "source": [
    "a=\"ball cat hat apple ball\"\n",
    "c=len(a)\n",
    "for i in range(c):\n",
    "    if \" \"==a[i]:\n",
    "        print(i)"
   ]
  },
  {
   "cell_type": "code",
   "execution_count": null,
   "id": "63d271e6",
   "metadata": {},
   "outputs": [],
   "source": []
  }
 ],
 "metadata": {
  "kernelspec": {
   "display_name": "Python 3 (ipykernel)",
   "language": "python",
   "name": "python3"
  },
  "language_info": {
   "codemirror_mode": {
    "name": "ipython",
    "version": 3
   },
   "file_extension": ".py",
   "mimetype": "text/x-python",
   "name": "python",
   "nbconvert_exporter": "python",
   "pygments_lexer": "ipython3",
   "version": "3.11.5"
  }
 },
 "nbformat": 4,
 "nbformat_minor": 5
}
