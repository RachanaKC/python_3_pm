{
 "cells": [
  {
   "cell_type": "code",
   "execution_count": 2,
   "id": "daa56fed",
   "metadata": {},
   "outputs": [
    {
     "name": "stdout",
     "output_type": "stream",
     "text": [
      "[{'name': 'Ram', 'age': 34, 'add': 'Kathmandu'}, {'name': 'R', 'age': 34, 'add': 'Kathmandu'}, {'name': 'am', 'age': 34, 'add': 'Kathmandu'}, {'name': 'm', 'age': 34, 'add': 'Kathmandu'}]\n"
     ]
    }
   ],
   "source": [
    "#dict inside list\n",
    "d=[{'name':'Ram','age':34,'add':\"Kathmandu\"},\n",
    "    {'name':'R','age':34,'add':\"Kathmandu\"},\n",
    "    {'name':'am','age':34,'add':\"Kathmandu\"},\n",
    "    {'name':'m','age':34,'add':\"Kathmandu\"}]\n",
    "print(d)"
   ]
  },
  {
   "cell_type": "code",
   "execution_count": 3,
   "id": "90379940",
   "metadata": {},
   "outputs": [
    {
     "name": "stdout",
     "output_type": "stream",
     "text": [
      "{'name': 'Ram', 'age': 34, 'add': 'Kathmandu'}\n"
     ]
    }
   ],
   "source": [
    "print(d[0])"
   ]
  },
  {
   "cell_type": "code",
   "execution_count": 4,
   "id": "014fdb99",
   "metadata": {},
   "outputs": [
    {
     "name": "stdout",
     "output_type": "stream",
     "text": [
      "Ram\n"
     ]
    }
   ],
   "source": [
    "print(d[0]['name'])"
   ]
  },
  {
   "cell_type": "code",
   "execution_count": 10,
   "id": "ee852c51",
   "metadata": {},
   "outputs": [
    {
     "name": "stdout",
     "output_type": "stream",
     "text": [
      "Enter n = 1\n",
      "Enter name = R\n",
      "Enter ntc = 9\n",
      "Enter ncell = 0\n",
      "[{'name': 'R', 'ntc': '9', 'ncell': '0'}]\n"
     ]
    }
   ],
   "source": [
    "l = []\n",
    "n= int(input(\"Enter n = \"))\n",
    "for i in range(n):\n",
    "        name =input(\"Enter name = \")\n",
    "        ntc = input(\"Enter ntc = \")\n",
    "        ncell = input(\"Enter ncell = \")\n",
    "        d={'name':name,'ntc':ntc,'ncell':ncell}\n",
    "        l.append(d)\n",
    "print()"
   ]
  },
  {
   "cell_type": "code",
   "execution_count": 11,
   "id": "5742b030",
   "metadata": {},
   "outputs": [
    {
     "name": "stdout",
     "output_type": "stream",
     "text": [
      "{'name': 'R', 'ntc': '9', 'ncell': '0'}\n"
     ]
    }
   ],
   "source": [
    "print(l[0])"
   ]
  },
  {
   "cell_type": "code",
   "execution_count": 13,
   "id": "e4b4ac54",
   "metadata": {},
   "outputs": [
    {
     "name": "stdout",
     "output_type": "stream",
     "text": [
      "R\n"
     ]
    }
   ],
   "source": [
    "print(l[0]['name'])"
   ]
  },
  {
   "cell_type": "code",
   "execution_count": 15,
   "id": "6f67e608",
   "metadata": {},
   "outputs": [
    {
     "ename": "IndexError",
     "evalue": "list assignment index out of range",
     "output_type": "error",
     "traceback": [
      "\u001b[1;31m---------------------------------------------------------------------------\u001b[0m",
      "\u001b[1;31mIndexError\u001b[0m                                Traceback (most recent call last)",
      "Cell \u001b[1;32mIn[15], line 1\u001b[0m\n\u001b[1;32m----> 1\u001b[0m \u001b[38;5;28;01mdel\u001b[39;00m l[\u001b[38;5;241m1\u001b[39m]\n\u001b[0;32m      2\u001b[0m \u001b[38;5;28mprint\u001b[39m(l)\n",
      "\u001b[1;31mIndexError\u001b[0m: list assignment index out of range"
     ]
    }
   ],
   "source": [
    "del l[1]\n",
    "print(l)"
   ]
  },
  {
   "cell_type": "code",
   "execution_count": 16,
   "id": "e18b04d9",
   "metadata": {},
   "outputs": [
    {
     "data": {
      "text/plain": [
       "{1: {'name': 'Ram', 'age': 34, 'add': 'KTM'},\n",
       " 2: {'name': 'HAri', 'age': 24, 'add': 'BKT'},\n",
       " 3: {'name': 'Sita', 'age': 14, 'add': 'PKR'}}"
      ]
     },
     "execution_count": 16,
     "metadata": {},
     "output_type": "execute_result"
    }
   ],
   "source": [
    "#dict inside dict\n",
    "info={1:{'name':'Ram','age':34,\"add\":\"KTM\"},\n",
    "     2:{'name':'HAri','age':24,\"add\":\"BKT\"},\n",
    "     3:{'name':'Sita','age':14,\"add\":\"PKR\"}}\n",
    "info"
   ]
  },
  {
   "cell_type": "code",
   "execution_count": 17,
   "id": "071333bf",
   "metadata": {},
   "outputs": [
    {
     "data": {
      "text/plain": [
       "{'name': 'Ram', 'age': 34, 'add': 'KTM'}"
      ]
     },
     "execution_count": 17,
     "metadata": {},
     "output_type": "execute_result"
    }
   ],
   "source": [
    "info[1]"
   ]
  },
  {
   "cell_type": "code",
   "execution_count": 19,
   "id": "e0fb0179",
   "metadata": {},
   "outputs": [
    {
     "data": {
      "text/plain": [
       "{1: {'age': 34, 'add': 'KTM'},\n",
       " 2: {'name': 'HAri', 'age': 24, 'add': 'BKT'},\n",
       " 3: {'name': 'Sita', 'age': 14, 'add': 'PKR'}}"
      ]
     },
     "execution_count": 19,
     "metadata": {},
     "output_type": "execute_result"
    }
   ],
   "source": [
    "del info[1]['name']\n",
    "info"
   ]
  },
  {
   "cell_type": "code",
   "execution_count": 21,
   "id": "a6599f9f",
   "metadata": {},
   "outputs": [
    {
     "name": "stdout",
     "output_type": "stream",
     "text": [
      "Enter n = 2\n",
      "Enter name = r\n",
      "Enter age = 0\n",
      "Enter add = u\n",
      "Enter name = p\n",
      "Enter age = 8\n",
      "Enter add = 9\n",
      "{1: {'name': 'r', 'age': '0', 'add': 'u'}, 2: {'name': 'p', 'age': '8', 'add': '9'}}\n"
     ]
    }
   ],
   "source": [
    "info = {}\n",
    "n= int(input(\"Enter n = \"))\n",
    "for i in range(1,n+1):\n",
    "        name =input(\"Enter name = \")\n",
    "        age = input(\"Enter age = \")\n",
    "        add = input(\"Enter add = \")\n",
    "        d={'name':name,'age':age,'add':add}\n",
    "        info[i]=d\n",
    "print(info)"
   ]
  },
  {
   "cell_type": "code",
   "execution_count": 23,
   "id": "69778e23",
   "metadata": {},
   "outputs": [
    {
     "data": {
      "text/plain": [
       "{1: {'name': 'r', 'age': '0', 'add': 'u'},\n",
       " 2: {'name': 'p', 'age': '8', 'add': '9'},\n",
       " 3: {'name': 'p', 'age': '8', 'add': '9'}}"
      ]
     },
     "execution_count": 23,
     "metadata": {},
     "output_type": "execute_result"
    }
   ],
   "source": [
    "info[3]={'name': 'p', 'age': '8', 'add': '9'}\n",
    "info"
   ]
  },
  {
   "cell_type": "code",
   "execution_count": 24,
   "id": "377769f1",
   "metadata": {},
   "outputs": [
    {
     "data": {
      "text/plain": [
       "{1: {'name': 'r', 'age': '0', 'add': 'u'},\n",
       " 2: {'name': 'p', 'age': '8', 'add': '9'},\n",
       " 3: {'name': 'p', 'age': '8', 'add': {'per': 'Dhading', 'temp': 'KTM'}}}"
      ]
     },
     "execution_count": 24,
     "metadata": {},
     "output_type": "execute_result"
    }
   ],
   "source": [
    "info[3]['add']={'per':'Dhading','temp':'KTM'}\n",
    "info"
   ]
  },
  {
   "cell_type": "code",
   "execution_count": null,
   "id": "0b99fc72",
   "metadata": {},
   "outputs": [],
   "source": []
  },
  {
   "cell_type": "code",
   "execution_count": 25,
   "id": "2e019e52",
   "metadata": {},
   "outputs": [
    {
     "data": {
      "text/plain": [
       "{1: {'name': 'r', 'age': '0', 'add': 'u'},\n",
       " 2: {'name': 'p', 'age': '8', 'add': '9'},\n",
       " 3: {'name': 'p',\n",
       "  'age': '8',\n",
       "  'add': {'per': 'Dhading', 'temp': {'one': 'balaju', 'next': 'baneshwor'}}}}"
      ]
     },
     "execution_count": 25,
     "metadata": {},
     "output_type": "execute_result"
    }
   ],
   "source": [
    "info[3]['add']={'per':'Dhading','temp':{'one':'balaju','next':'baneshwor'}}\n",
    "info"
   ]
  },
  {
   "cell_type": "code",
   "execution_count": 26,
   "id": "1646e74e",
   "metadata": {},
   "outputs": [
    {
     "data": {
      "text/plain": [
       "{1: {'name': 'r', 'age': '0', 'add': 'u'},\n",
       " 2: {'name': 'p', 'age': '8', 'add': '9'},\n",
       " 3: {'name': {'firstname': 'r', 'lastname': 'kc'},\n",
       "  'age': '8',\n",
       "  'add': {'per': 'Dhading', 'temp': {'one': 'balaju', 'next': 'baneshwor'}}}}"
      ]
     },
     "execution_count": 26,
     "metadata": {},
     "output_type": "execute_result"
    }
   ],
   "source": [
    "info[3]['name']={'firstname':'r','lastname':'kc'}\n",
    "info"
   ]
  },
  {
   "cell_type": "code",
   "execution_count": null,
   "id": "143c31cb",
   "metadata": {},
   "outputs": [],
   "source": []
  }
 ],
 "metadata": {
  "kernelspec": {
   "display_name": "Python 3 (ipykernel)",
   "language": "python",
   "name": "python3"
  },
  "language_info": {
   "codemirror_mode": {
    "name": "ipython",
    "version": 3
   },
   "file_extension": ".py",
   "mimetype": "text/x-python",
   "name": "python",
   "nbconvert_exporter": "python",
   "pygments_lexer": "ipython3",
   "version": "3.11.5"
  }
 },
 "nbformat": 4,
 "nbformat_minor": 5
}
