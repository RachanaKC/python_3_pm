{
 "cells": [
  {
   "cell_type": "markdown",
   "id": "5a873bda",
   "metadata": {},
   "source": [
    "# logical\n",
    "# and &\n",
    "# or|"
   ]
  },
  {
   "cell_type": "code",
   "execution_count": 1,
   "id": "f151c1d5",
   "metadata": {},
   "outputs": [
    {
     "name": "stdout",
     "output_type": "stream",
     "text": [
      "False\n",
      "False\n",
      "True\n",
      "False\n"
     ]
    }
   ],
   "source": [
    "print(True and False)\n",
    "print(False and False)\n",
    "print(True and True)\n",
    "print(False and False)"
   ]
  },
  {
   "cell_type": "code",
   "execution_count": 2,
   "id": "5aa4850a",
   "metadata": {},
   "outputs": [
    {
     "name": "stdout",
     "output_type": "stream",
     "text": [
      "True\n",
      "False\n",
      "True\n",
      "False\n"
     ]
    }
   ],
   "source": [
    "print(True or False)\n",
    "print(False or False)\n",
    "print(True or True)\n",
    "print(False or False)"
   ]
  },
  {
   "cell_type": "code",
   "execution_count": 5,
   "id": "f24dddc9",
   "metadata": {},
   "outputs": [
    {
     "name": "stdout",
     "output_type": "stream",
     "text": [
      "Enter a = 10\n",
      "Enter b = 0\n",
      "Enter + or - or * or /  /\n",
      "Value of b can not be zero\n"
     ]
    }
   ],
   "source": [
    "a = int(input(\"Enter a = \"))\n",
    "b = int(input(\"Enter b = \"))\n",
    "o = input(\"Enter + or - or * or /  \")\n",
    "if o == \"+\":\n",
    "    print(a+b)\n",
    "elif o == \"-\":\n",
    "    print(a-b)\n",
    "elif o == \"*\":\n",
    "    print(a*b)\n",
    "elif o == \"/\" and b!=0:\n",
    "    print(a/b)\n",
    "elif o == \"/\" and b==0:\n",
    "    print(\"Value of b can not be zero\")\n",
    "else:\n",
    "    print(\"Enter valid operator\")"
   ]
  },
  {
   "cell_type": "code",
   "execution_count": 6,
   "id": "6f5ac7cf",
   "metadata": {},
   "outputs": [
    {
     "name": "stdout",
     "output_type": "stream",
     "text": [
      "Enter physics marks = 80\n",
      "Enter chemistry marks = 90\n",
      "Enter math marks = 80\n",
      "Enter english marks = 99\n",
      "Enter nepali = 80\n",
      "Total =  429\n",
      "Per =  85.8\n",
      "Grade =  A\n"
     ]
    }
   ],
   "source": [
    "physics = int(input(\"Enter physics marks = \"))\n",
    "chemistry = int(input(\"Enter chemistry marks = \"))\n",
    "math = int(input(\"Enter math marks = \"))\n",
    "english = int(input(\"Enter english marks = \"))\n",
    "nepali = int(input(\"Enter nepali = \"))\n",
    "\n",
    "total = physics + chemistry + math + english + nepali\n",
    "per = total/5\n",
    "\n",
    "if per > 80 or per==80:\n",
    "    grade = \"A\"\n",
    "elif per > 60 or per==60 :\n",
    "    grade = \"B\"\n",
    "elif per > 45 or per==45 :\n",
    "    grade = \"C\"\n",
    "else:\n",
    "    grade = \"F\"\n",
    "    \n",
    "print(\"Total = \",total)\n",
    "print(\"Per = \",per)\n",
    "print(\"Grade = \",grade)"
   ]
  },
  {
   "cell_type": "code",
   "execution_count": 11,
   "id": "dd078a60",
   "metadata": {},
   "outputs": [
    {
     "name": "stdout",
     "output_type": "stream",
     "text": [
      "enter x=-3\n",
      "value of x is -ve and odd\n"
     ]
    }
   ],
   "source": [
    "x=int(input(\"enter x=\"))\n",
    "if x>=0 and x%2==0:\n",
    "    print(\"value of x is positive and even\")\n",
    "elif x>=0 and x%2!=0:\n",
    "    print(\"value of x is positive and odd\")\n",
    "elif x<0 and x%2==0:\n",
    "    print(\"value of x is-ve and even\")\n",
    "else:\n",
    "    print(\"value of x is -ve and odd\")"
   ]
  },
  {
   "cell_type": "code",
   "execution_count": null,
   "id": "b6fe4bcc",
   "metadata": {},
   "outputs": [],
   "source": [
    "#nested if/else"
   ]
  },
  {
   "cell_type": "code",
   "execution_count": null,
   "id": "e859b558",
   "metadata": {},
   "outputs": [],
   "source": [
    "# if<condition>:\n",
    "# if<condition>:\n",
    "<operation>\n",
    "else:\n",
    "    <operation>\n",
    "else:\n",
    "    if<condition>:\n",
    "        <operation>\n",
    "        else:\n",
    "    <operation>"
   ]
  },
  {
   "cell_type": "code",
   "execution_count": null,
   "id": "8bb011a6",
   "metadata": {},
   "outputs": [],
   "source": [
    "x=int(input(\"Enter x=\"))\n",
    "if x>=0:\n",
    "    if x%2==0:\n",
    "        print(\"the value of x is +ve and even\")\n",
    "    else:\n",
    "            print(\"the value of x is +ve and odd\")\n",
    "else:\n",
    "        if x%2==0:\n",
    "            print(\"the value of x is -ve and even\")\n",
    "        else:\n",
    "            print(\"the value of x is -ve and odd\")"
   ]
  },
  {
   "cell_type": "code",
   "execution_count": null,
   "id": "7ac5a46e",
   "metadata": {},
   "outputs": [],
   "source": []
  },
  {
   "cell_type": "code",
   "execution_count": 18,
   "id": "ee7a769a",
   "metadata": {},
   "outputs": [
    {
     "name": "stdout",
     "output_type": "stream",
     "text": [
      "Enter a = 8\n",
      "Enter b = 0\n",
      "Enter + or - or * or /  /\n",
      "Value of b can not be zero while o=/\n"
     ]
    }
   ],
   "source": [
    "a = int(input(\"Enter a = \"))\n",
    "b = int(input(\"Enter b = \"))\n",
    "o = input(\"Enter + or - or * or /  \")\n",
    "if o == \"+\":\n",
    "    print(a+b)\n",
    "elif o == \"-\":\n",
    "    print(a-b)\n",
    "elif o == \"*\":\n",
    "    print(a*b)\n",
    "elif o == \"/\":\n",
    "    if b!=0:\n",
    "        print(a/b)\n",
    "    else:\n",
    "        print(\"Value of b can not be zero while o=/\")\n",
    "else:\n",
    "    print(\"Enter valid operator\")"
   ]
  },
  {
   "cell_type": "code",
   "execution_count": 22,
   "id": "7c634039",
   "metadata": {},
   "outputs": [
    {
     "ename": "SyntaxError",
     "evalue": "invalid syntax (3968165410.py, line 7)",
     "output_type": "error",
     "traceback": [
      "\u001b[1;36m  Cell \u001b[1;32mIn[22], line 7\u001b[1;36m\u001b[0m\n\u001b[1;33m    else(physics<32):\u001b[0m\n\u001b[1;37m    ^\u001b[0m\n\u001b[1;31mSyntaxError\u001b[0m\u001b[1;31m:\u001b[0m invalid syntax\n"
     ]
    }
   ],
   "source": [
    "physics = int(input(\"Enter physics marks = \"))\n",
    "chemistry = int(input(\"Enter chemistry marks = \"))\n",
    "math = int(input(\"Enter math marks = \"))\n",
    "english = int(input(\"Enter english marks = \"))\n",
    "nepali = int(input(\"Enter nepali = \"))\n",
    "if (physics & chemistry & math & english & nepali)<32:\n",
    "    else(physics<32)\n",
    "        print(\"fail in physics\")\n",
    "    elif(chemistry<32):\n",
    "        print(\"fail in chemistry\")\n",
    "    elif(math<32):\n",
    "        print(\"fail in math\")\n",
    "    elif(english<32):\n",
    "        print(\"fail in english\")\n",
    "    elif(nepali<32):\n",
    "        print(\"fail in english\")\n",
    "else:\n",
    "    total = physics + chemistry + math + english + nepali\n",
    "    per = total/5\n",
    "\n",
    "    if per > 80 or per==80:\n",
    "        grade = \"A\"\n",
    "    elif per > 60 or per==60 :\n",
    "        grade = \"B\"\n",
    "    elif per > 45 or per==45 :\n",
    "        grade = \"C\"\n",
    "    else:\n",
    "        grade = \"F\"\n",
    "    \n",
    "print(\"Total = \",total)\n",
    "print(\"Per = \",per)\n",
    "print(\"Grade = \",grade)"
   ]
  },
  {
   "cell_type": "code",
   "execution_count": null,
   "id": "25678264",
   "metadata": {},
   "outputs": [],
   "source": []
  }
 ],
 "metadata": {
  "kernelspec": {
   "display_name": "Python 3 (ipykernel)",
   "language": "python",
   "name": "python3"
  },
  "language_info": {
   "codemirror_mode": {
    "name": "ipython",
    "version": 3
   },
   "file_extension": ".py",
   "mimetype": "text/x-python",
   "name": "python",
   "nbconvert_exporter": "python",
   "pygments_lexer": "ipython3",
   "version": "3.11.5"
  }
 },
 "nbformat": 4,
 "nbformat_minor": 5
}
