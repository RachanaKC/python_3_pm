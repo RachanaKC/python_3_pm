{
 "cells": [
  {
   "cell_type": "code",
   "execution_count": null,
   "id": "400c5f07",
   "metadata": {},
   "outputs": [],
   "source": [
    "# for loop\n",
    "# while loop\n"
   ]
  },
  {
   "cell_type": "code",
   "execution_count": null,
   "id": "b9d062c0",
   "metadata": {},
   "outputs": [],
   "source": [
    "# for loop\n",
    "#range(5)          #0,1,2,3,4    for(i = 0; i<5; i++;)\n",
    "#range(1,5)        #1,2,3,4      for(i = 1; i<5; i++;)\n",
    "#range(1,10,2)     #1,3,5,7,9    for(i = 1; i<10; i=i+2;)\n"
   ]
  },
  {
   "cell_type": "code",
   "execution_count": 1,
   "id": "a0e2988d",
   "metadata": {},
   "outputs": [
    {
     "name": "stdout",
     "output_type": "stream",
     "text": [
      "0 Hello World\n",
      "1 Hello World\n",
      "2 Hello World\n",
      "3 Hello World\n",
      "4 Hello World\n"
     ]
    }
   ],
   "source": [
    "for i in range(5):\n",
    "    print(i,\"Hello World\")\n",
    "    "
   ]
  },
  {
   "cell_type": "code",
   "execution_count": 2,
   "id": "b85a6538",
   "metadata": {},
   "outputs": [
    {
     "name": "stdout",
     "output_type": "stream",
     "text": [
      "1 Hello World\n",
      "2 Hello World\n",
      "3 Hello World\n",
      "4 Hello World\n"
     ]
    }
   ],
   "source": [
    "for i in range(1,5):\n",
    "    print(i,\"Hello World\")"
   ]
  },
  {
   "cell_type": "code",
   "execution_count": 3,
   "id": "142dded6",
   "metadata": {},
   "outputs": [
    {
     "name": "stdout",
     "output_type": "stream",
     "text": [
      "1 Hello World\n",
      "3 Hello World\n",
      "5 Hello World\n",
      "7 Hello World\n",
      "9 Hello World\n"
     ]
    }
   ],
   "source": [
    "for i in range(1,10,2):\n",
    "    print(i,\"Hello World\")"
   ]
  },
  {
   "cell_type": "code",
   "execution_count": 4,
   "id": "997101a9",
   "metadata": {},
   "outputs": [
    {
     "name": "stdout",
     "output_type": "stream",
     "text": [
      "5 Hello World\n",
      "4 Hello World\n",
      "3 Hello World\n",
      "2 Hello World\n",
      "1 Hello World\n",
      "0 Hello World\n"
     ]
    }
   ],
   "source": [
    "for i in range(5,-1,-1):\n",
    "    print(i,\"Hello World\")"
   ]
  },
  {
   "cell_type": "code",
   "execution_count": 5,
   "id": "566536dc",
   "metadata": {},
   "outputs": [
    {
     "name": "stdout",
     "output_type": "stream",
     "text": [
      "Enter n = 7\n",
      "7\n",
      "14\n",
      "21\n",
      "28\n",
      "35\n",
      "42\n",
      "49\n",
      "56\n",
      "63\n",
      "70\n"
     ]
    }
   ],
   "source": [
    "# WAP to create a multiplication table\n",
    "n = int(input(\"Enter n = \"))\n",
    "for i in range(1,11):\n",
    "    print(n*i)"
   ]
  },
  {
   "cell_type": "code",
   "execution_count": 6,
   "id": "659148cd",
   "metadata": {},
   "outputs": [
    {
     "name": "stdout",
     "output_type": "stream",
     "text": [
      "Enter n = 5\n",
      "5 * 1 = 5\n",
      "5 * 2 = 10\n",
      "5 * 3 = 15\n",
      "5 * 4 = 20\n",
      "5 * 5 = 25\n",
      "5 * 6 = 30\n",
      "5 * 7 = 35\n",
      "5 * 8 = 40\n",
      "5 * 9 = 45\n",
      "5 * 10 = 50\n"
     ]
    }
   ],
   "source": [
    "# WAP to create a multiplication table\n",
    "n = int(input(\"Enter n = \"))\n",
    "for i in range(1,11):\n",
    "    print(n,\"*\",i,\"=\",n*i)"
   ]
  },
  {
   "cell_type": "code",
   "execution_count": 7,
   "id": "90c85ec7",
   "metadata": {},
   "outputs": [
    {
     "name": "stdout",
     "output_type": "stream",
     "text": [
      "Enter x = 3\n",
      "You entered  3\n",
      "Enter x = 2\n",
      "You entered  2\n",
      "Enter x = 1\n",
      "You entered  1\n",
      "Enter x = 4\n",
      "You entered  4\n",
      "Enter x = 5\n",
      "You entered  5\n"
     ]
    }
   ],
   "source": [
    "for i in range(5):\n",
    "    x = int(input(\"Enter x = \"))\n",
    "    print(\"You entered \",x)"
   ]
  },
  {
   "cell_type": "code",
   "execution_count": 8,
   "id": "ca8c6988",
   "metadata": {},
   "outputs": [
    {
     "name": "stdout",
     "output_type": "stream",
     "text": [
      "Enter n = 4\n",
      "Enter x = 1000\n",
      "Enter x = 50000\n",
      "Enter x = 10000\n",
      "Enter x = 3000\n",
      "sum =  64000\n"
     ]
    }
   ],
   "source": [
    "s = 0\n",
    "n = int(input(\"Enter n = \"))\n",
    "for i in range(n):\n",
    "    x = int(input(\"Enter x = \"))\n",
    "    s = s + x\n",
    "    \n",
    "print(\"sum = \",s)"
   ]
  },
  {
   "cell_type": "code",
   "execution_count": 9,
   "id": "be4dcccf",
   "metadata": {},
   "outputs": [
    {
     "name": "stdout",
     "output_type": "stream",
     "text": [
      "Enter n = 3\n",
      "Enter x = utkarsh\n",
      "Enter x = rachana\n",
      "Enter x = binod\n",
      "utkarsh\n",
      "rachana\n",
      "binod\n",
      "\n"
     ]
    }
   ],
   "source": [
    "#s = str()\n",
    "s = \"\"\n",
    "n = int(input(\"Enter n = \"))\n",
    "for i in range(n):\n",
    "    x = input(\"Enter x = \")\n",
    "    s = s + x + \"\\n\"\n",
    "    \n",
    "print(s)"
   ]
  },
  {
   "cell_type": "code",
   "execution_count": 10,
   "id": "e9dc3788",
   "metadata": {},
   "outputs": [
    {
     "name": "stdout",
     "output_type": "stream",
     "text": [
      "Enter n = 3\n",
      "Enter name = utkarsh\n",
      "Enter phone = 9851004580\n",
      "Enter name = rachana\n",
      "Enter phone = 984922\n",
      "Enter name = binod\n",
      "Enter phone = 29474\n",
      "utkarsh 9851004580\n",
      "rachana 984922\n",
      "binod 29474\n",
      "\n"
     ]
    }
   ],
   "source": [
    "#s = str()\n",
    "s = \"\"\n",
    "n = int(input(\"Enter n = \"))\n",
    "for i in range(n):\n",
    "    name = input(\"Enter name = \")\n",
    "    phone = input(\"Enter phone = \")\n",
    "    s = s + name +\" \" + phone + \"\\n\"\n",
    "    \n",
    "print(s)"
   ]
  },
  {
   "cell_type": "code",
   "execution_count": null,
   "id": "e5929772",
   "metadata": {},
   "outputs": [],
   "source": [
    "# for loop in string"
   ]
  },
  {
   "cell_type": "code",
   "execution_count": 14,
   "id": "42db9cc0",
   "metadata": {},
   "outputs": [
    {
     "name": "stdout",
     "output_type": "stream",
     "text": [
      "Hello World"
     ]
    }
   ],
   "source": [
    "a = \"Hello World\"\n",
    "for i in a:\n",
    "    print(i, end=\"\")"
   ]
  },
  {
   "cell_type": "code",
   "execution_count": 15,
   "id": "115cf49d",
   "metadata": {},
   "outputs": [
    {
     "name": "stdout",
     "output_type": "stream",
     "text": [
      "Hello World I am Python"
     ]
    }
   ],
   "source": [
    "a = \"Hello World. I am Python.\"\n",
    "for i in a:\n",
    "    if i != \".\":\n",
    "        print(i,end = \"\")"
   ]
  },
  {
   "cell_type": "code",
   "execution_count": 16,
   "id": "c21e498d",
   "metadata": {},
   "outputs": [
    {
     "name": "stdout",
     "output_type": "stream",
     "text": [
      "Hello World I am Python"
     ]
    }
   ],
   "source": [
    "a = \"Hello World! I am Python.\"\n",
    "for i in a:\n",
    "    if i != \".\" and i != \"!\" :\n",
    "        print(i,end = \"\")"
   ]
  },
  {
   "cell_type": "code",
   "execution_count": 17,
   "id": "56b51ae5",
   "metadata": {},
   "outputs": [
    {
     "name": "stdout",
     "output_type": "stream",
     "text": [
      "\n",
      "o\n",
      "oo\n",
      "ooo\n",
      "oooo\n"
     ]
    }
   ],
   "source": [
    "for i in range(5):\n",
    "    print(i*\"o\")"
   ]
  },
  {
   "cell_type": "code",
   "execution_count": 21,
   "id": "0db5c44c",
   "metadata": {},
   "outputs": [
    {
     "name": "stdout",
     "output_type": "stream",
     "text": [
      "           \n",
      "          o\n",
      "         ooo\n",
      "        ooooo\n",
      "       ooooooo\n",
      "      ooooooooo\n",
      "     ooooooooooo\n",
      "    ooooooooooooo\n",
      "   ooooooooooooooo\n",
      "  ooooooooooooooooo\n"
     ]
    }
   ],
   "source": [
    "n = 10\n",
    "for i in range(n):\n",
    "    print((n-i)*\" \",(2*i-1)*\"o\")"
   ]
  },
  {
   "cell_type": "code",
   "execution_count": 22,
   "id": "63665917",
   "metadata": {},
   "outputs": [
    {
     "name": "stdout",
     "output_type": "stream",
     "text": [
      "\n"
     ]
    }
   ],
   "source": [
    "a = \"o\"\n",
    "print(a*(-1))"
   ]
  },
  {
   "cell_type": "code",
   "execution_count": 23,
   "id": "2949e66b",
   "metadata": {},
   "outputs": [
    {
     "name": "stdout",
     "output_type": "stream",
     "text": [
      "           \n",
      "          o\n",
      "         ooo\n",
      "        ooooo\n",
      "       ooooooo\n",
      "      ooooooooo\n",
      "     ooooooooooo\n",
      "    ooooooooooooo\n",
      "   ooooooooooooooo\n",
      "  ooooooooooooooooo\n",
      " ooooooooooooooooooo\n",
      "  ooooooooooooooooo\n",
      "   ooooooooooooooo\n",
      "    ooooooooooooo\n",
      "     ooooooooooo\n",
      "      ooooooooo\n",
      "       ooooooo\n",
      "        ooooo\n",
      "         ooo\n",
      "          o\n"
     ]
    }
   ],
   "source": [
    "n = 10\n",
    "for i in range(n):\n",
    "    print((n-i)*\" \",(2*i-1)*\"o\")\n",
    "for i in range(n,0,-1):\n",
    "    print((n-i)*\" \",(2*i-1)*\"o\")"
   ]
  },
  {
   "cell_type": "code",
   "execution_count": null,
   "id": "66992f2b",
   "metadata": {},
   "outputs": [],
   "source": [
    "# control statement\n",
    "# break\n",
    "# continue\n",
    "# pass"
   ]
  },
  {
   "cell_type": "code",
   "execution_count": 24,
   "id": "7a9e7790",
   "metadata": {},
   "outputs": [
    {
     "name": "stdout",
     "output_type": "stream",
     "text": [
      "0\n",
      "1\n",
      "2\n",
      "3\n",
      "4\n"
     ]
    }
   ],
   "source": [
    "for i in range(10):\n",
    "    if i == 5:\n",
    "        break\n",
    "    print(i)"
   ]
  },
  {
   "cell_type": "code",
   "execution_count": 25,
   "id": "ca9c5ce1",
   "metadata": {},
   "outputs": [
    {
     "name": "stdout",
     "output_type": "stream",
     "text": [
      "0 1 2 3 4 6 7 8 9 "
     ]
    }
   ],
   "source": [
    "for i in range(10):\n",
    "    if i == 5:\n",
    "        continue\n",
    "    print(i, end = \" \")"
   ]
  },
  {
   "cell_type": "code",
   "execution_count": 26,
   "id": "b0c71d6c",
   "metadata": {},
   "outputs": [],
   "source": [
    "for i in range(5):\n",
    "    pass"
   ]
  },
  {
   "cell_type": "code",
   "execution_count": 27,
   "id": "fd826610",
   "metadata": {},
   "outputs": [
    {
     "name": "stdout",
     "output_type": "stream",
     "text": [
      "Hello World"
     ]
    }
   ],
   "source": [
    "a = \"Hello World. I am Python.\"\n",
    "for i in a:\n",
    "    if i ==\".\":\n",
    "        break\n",
    "    print(i,end = \"\")"
   ]
  },
  {
   "cell_type": "code",
   "execution_count": 28,
   "id": "2f3649ab",
   "metadata": {},
   "outputs": [
    {
     "name": "stdout",
     "output_type": "stream",
     "text": [
      "Hello World I am Python"
     ]
    }
   ],
   "source": [
    "a = \"Hello World. I am Python.\"\n",
    "for i in a:\n",
    "    if i ==\".\":\n",
    "        continue\n",
    "    print(i,end = \"\")"
   ]
  },
  {
   "cell_type": "code",
   "execution_count": 29,
   "id": "d7595aa5",
   "metadata": {},
   "outputs": [
    {
     "name": "stdout",
     "output_type": "stream",
     "text": [
      "Enter n = 2\n",
      "2\n",
      "4\n",
      "6\n",
      "8\n",
      "10\n",
      "12\n",
      "14\n",
      "16\n",
      "18\n",
      "20\n"
     ]
    }
   ],
   "source": [
    "n = int(input(\"Enter n = \"))\n",
    "for i in range(1,n*11):\n",
    "    if i%n !=0:\n",
    "        continue\n",
    "    print(i)"
   ]
  },
  {
   "cell_type": "code",
   "execution_count": 30,
   "id": "1656e69e",
   "metadata": {},
   "outputs": [],
   "source": [
    "# while loop"
   ]
  },
  {
   "cell_type": "code",
   "execution_count": null,
   "id": "16499e7d",
   "metadata": {},
   "outputs": [],
   "source": [
    "# while <condition>:\n",
    "#     <operations>"
   ]
  },
  {
   "cell_type": "code",
   "execution_count": 31,
   "id": "5f49a48b",
   "metadata": {},
   "outputs": [
    {
     "name": "stdout",
     "output_type": "stream",
     "text": [
      "0\n",
      "1\n",
      "2\n",
      "3\n",
      "4\n",
      "5\n"
     ]
    }
   ],
   "source": [
    "a = 0\n",
    "while a<=5:\n",
    "    print(a)\n",
    "    a = a +1"
   ]
  },
  {
   "cell_type": "code",
   "execution_count": 32,
   "id": "13cd2b46",
   "metadata": {},
   "outputs": [
    {
     "name": "stdout",
     "output_type": "stream",
     "text": [
      "0 Hello World\n",
      "1 Hello World\n",
      "2 Hello World\n",
      "3 Hello World\n",
      "4 Hello World\n"
     ]
    }
   ],
   "source": [
    "a = 0\n",
    "while a<5:\n",
    "    print(a,\"Hello World\")\n",
    "   # a = a +1\n",
    "    a+=1"
   ]
  },
  {
   "cell_type": "code",
   "execution_count": 33,
   "id": "95eabbc8",
   "metadata": {},
   "outputs": [
    {
     "name": "stdout",
     "output_type": "stream",
     "text": [
      "Enter n = 1\n",
      "1 * 1 = 1\n",
      "1 * 2 = 2\n",
      "1 * 3 = 3\n",
      "1 * 4 = 4\n",
      "1 * 5 = 5\n",
      "1 * 6 = 6\n",
      "1 * 7 = 7\n",
      "1 * 8 = 8\n",
      "1 * 9 = 9\n",
      "1 * 10 = 10\n"
     ]
    }
   ],
   "source": [
    "# WAP to create a multiplication table\n",
    "i = 1\n",
    "n = int(input(\"Enter n = \"))\n",
    "while i<=10:\n",
    "    print(n,\"*\",i,\"=\",n*i)\n",
    "    i = i+1"
   ]
  },
  {
   "cell_type": "code",
   "execution_count": 34,
   "id": "d65477ef",
   "metadata": {},
   "outputs": [
    {
     "name": "stdout",
     "output_type": "stream",
     "text": [
      "Enter n = 2\n",
      "Enter x = 4\n",
      "Enter x = 3\n",
      "sum =  7\n"
     ]
    }
   ],
   "source": [
    "i = 0\n",
    "s = 0\n",
    "n = int(input(\"Enter n = \"))\n",
    "while i<n:\n",
    "    x = int(input(\"Enter x = \"))\n",
    "    s = s + x\n",
    "    i = i + 1\n",
    "print(\"sum = \",s)"
   ]
  },
  {
   "cell_type": "code",
   "execution_count": 35,
   "id": "695b27e6",
   "metadata": {},
   "outputs": [
    {
     "name": "stdout",
     "output_type": "stream",
     "text": [
      "Enter n = 6\n",
      "1\n",
      "2\n",
      "6\n",
      "24\n",
      "120\n",
      "720\n"
     ]
    }
   ],
   "source": [
    "# 5! = 1*2*3*4*5\n",
    "i = 1\n",
    "fac = 1\n",
    "n = int(input(\"Enter n = \"))\n",
    "while i<=n:\n",
    "    fac = fac * i\n",
    "    i = i +1\n",
    "    print(fac)"
   ]
  },
  {
   "cell_type": "code",
   "execution_count": 36,
   "id": "46d6a7e7",
   "metadata": {},
   "outputs": [
    {
     "name": "stdout",
     "output_type": "stream",
     "text": [
      "Enter n = 1\n",
      "Enter name = r\n",
      "Enter phone = 66\n",
      "r 66\n",
      "\n"
     ]
    }
   ],
   "source": [
    "#s = str()\n",
    "s = \"\"\n",
    "i = 0\n",
    "n = int(input(\"Enter n = \"))\n",
    "while i<n:\n",
    "    name = input(\"Enter name = \")\n",
    "    phone = input(\"Enter phone = \")\n",
    "    s = s + name +\" \" + phone + \"\\n\"\n",
    "    i = i+1\n",
    "print(s)"
   ]
  },
  {
   "cell_type": "code",
   "execution_count": 37,
   "id": "f8e1996c",
   "metadata": {},
   "outputs": [
    {
     "name": "stdout",
     "output_type": "stream",
     "text": [
      "0\n",
      "1\n",
      "2\n",
      "3\n",
      "4\n"
     ]
    }
   ],
   "source": [
    "# control statement in while loop\n",
    "i = 0\n",
    "while i<10:\n",
    "    if i == 5:\n",
    "        break\n",
    "    print(i)\n",
    "    i = i +1"
   ]
  },
  {
   "cell_type": "code",
   "execution_count": 38,
   "id": "4d4f9be8",
   "metadata": {},
   "outputs": [
    {
     "name": "stdout",
     "output_type": "stream",
     "text": [
      "0\n",
      "1\n",
      "2\n",
      "3\n",
      "4\n",
      "6\n",
      "7\n",
      "8\n",
      "9\n"
     ]
    }
   ],
   "source": [
    "# control statement in while loop\n",
    "i = 0\n",
    "while i<10:\n",
    "    if i == 5:\n",
    "        i = i+1\n",
    "        continue\n",
    "        \n",
    "    print(i)\n",
    "    i = i +1"
   ]
  },
  {
   "cell_type": "code",
   "execution_count": 39,
   "id": "f3d46531",
   "metadata": {},
   "outputs": [
    {
     "name": "stdout",
     "output_type": "stream",
     "text": [
      "0\n",
      "0.5\n",
      "1.0\n",
      "1.5\n",
      "2.0\n",
      "2.5\n",
      "3.0\n",
      "3.5\n",
      "4.0\n",
      "4.5\n",
      "5.0\n",
      "5.5\n",
      "6.0\n",
      "6.5\n",
      "7.0\n",
      "7.5\n",
      "8.0\n",
      "8.5\n",
      "9.0\n",
      "9.5\n"
     ]
    }
   ],
   "source": [
    "# control statement in while loop\n",
    "i = 0\n",
    "while i<10:\n",
    "    \n",
    "    print(i)\n",
    "    i = i +0.5"
   ]
  },
  {
   "cell_type": "code",
   "execution_count": 41,
   "id": "1908c891",
   "metadata": {},
   "outputs": [
    {
     "name": "stdout",
     "output_type": "stream",
     "text": [
      "Enter a = 7\n",
      "7 is prime number\n"
     ]
    }
   ],
   "source": [
    "#WAP to find if the given number is prime or composite\n",
    "# prime -> 2,3,5,7,11,13,17,19\n",
    "# composite -> 4,6,8,9,10,12,\n",
    "\n",
    "a = int(input(\"Enter a = \"))\n",
    "if (a!=2 and a!=3 and a!=5 and a!=7) and(a%2==0 or a%3==0 or a%5==0 or a%7==0):\n",
    "    print(a,\" is composite number\")\n",
    "else:\n",
    "    print(a,\"is prime number\")\n",
    "    "
   ]
  }
 ],
 "metadata": {
  "kernelspec": {
   "display_name": "Python 3 (ipykernel)",
   "language": "python",
   "name": "python3"
  },
  "language_info": {
   "codemirror_mode": {
    "name": "ipython",
    "version": 3
   },
   "file_extension": ".py",
   "mimetype": "text/x-python",
   "name": "python",
   "nbconvert_exporter": "python",
   "pygments_lexer": "ipython3",
   "version": "3.11.5"
  }
 },
 "nbformat": 4,
 "nbformat_minor": 5
}
