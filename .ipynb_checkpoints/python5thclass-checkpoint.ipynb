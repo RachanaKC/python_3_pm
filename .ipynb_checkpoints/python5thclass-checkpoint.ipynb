{
 "cells": [
  {
   "cell_type": "code",
   "execution_count": null,
   "id": "0ba8557c",
   "metadata": {},
   "outputs": [],
   "source": [
    "#for loop\n",
    "#while loop"
   ]
  },
  {
   "cell_type": "code",
   "execution_count": null,
   "id": "6dd13f6b",
   "metadata": {},
   "outputs": [],
   "source": [
    "#for loop\n",
    "#range(5)  #0,1,2,3,4  #for(i=0;i<5;i++)\n",
    "#range(1,5) #1,2,3,4  #for(i=1;i<5;i++)\n",
    "#range(1,10,2)  #1,3,5,7,9   #for(i=1;i<10;i=i+2;)\n"
   ]
  },
  {
   "cell_type": "code",
   "execution_count": 4,
   "id": "3f02d9fb",
   "metadata": {},
   "outputs": [
    {
     "name": "stdout",
     "output_type": "stream",
     "text": [
      "0 Hello World\n",
      "1 Hello World\n",
      "2 Hello World\n",
      "3 Hello World\n",
      "4 Hello World\n"
     ]
    }
   ],
   "source": [
    "for i in range(5):\n",
    "    print(i,\"Hello World\")"
   ]
  },
  {
   "cell_type": "code",
   "execution_count": 5,
   "id": "0ed51a5c",
   "metadata": {},
   "outputs": [
    {
     "name": "stdout",
     "output_type": "stream",
     "text": [
      "1 Hello World\n",
      "2 Hello World\n",
      "3 Hello World\n",
      "4 Hello World\n"
     ]
    }
   ],
   "source": [
    "for i in range(1,5):\n",
    "    print(i,\"Hello World\")"
   ]
  },
  {
   "cell_type": "code",
   "execution_count": null,
   "id": "2f6e44dd",
   "metadata": {},
   "outputs": [],
   "source": []
  },
  {
   "cell_type": "code",
   "execution_count": 7,
   "id": "eb0e4f19",
   "metadata": {},
   "outputs": [
    {
     "name": "stdout",
     "output_type": "stream",
     "text": [
      "1 Hello World\n",
      "3 Hello World\n",
      "5 Hello World\n",
      "7 Hello World\n",
      "9 Hello World\n"
     ]
    }
   ],
   "source": [
    "for i in range(1,10,2):\n",
    "    print(i,\"Hello World\")"
   ]
  },
  {
   "cell_type": "code",
   "execution_count": null,
   "id": "3fe53376",
   "metadata": {},
   "outputs": [],
   "source": []
  },
  {
   "cell_type": "code",
   "execution_count": 9,
   "id": "c9d9f960",
   "metadata": {},
   "outputs": [
    {
     "name": "stdout",
     "output_type": "stream",
     "text": [
      "10 Hello World\n",
      "9 Hello World\n",
      "8 Hello World\n",
      "7 Hello World\n",
      "6 Hello World\n",
      "5 Hello World\n",
      "4 Hello World\n",
      "3 Hello World\n",
      "2 Hello World\n",
      "1 Hello World\n",
      "0 Hello World\n"
     ]
    }
   ],
   "source": [
    "for i in range(10,-1,-1):\n",
    "    print(i,\"Hello World\")"
   ]
  },
  {
   "cell_type": "code",
   "execution_count": 11,
   "id": "ad187781",
   "metadata": {},
   "outputs": [
    {
     "name": "stdout",
     "output_type": "stream",
     "text": [
      "Enter n=5\n",
      "5 * 1 = 5\n",
      "5 * 2 = 10\n",
      "5 * 3 = 15\n",
      "5 * 4 = 20\n",
      "5 * 5 = 25\n",
      "5 * 6 = 30\n",
      "5 * 7 = 35\n",
      "5 * 8 = 40\n",
      "5 * 9 = 45\n",
      "5 * 10 = 50\n"
     ]
    }
   ],
   "source": [
    "# WAP to create a multiplication table\n",
    "n=int(input(\"Enter n=\"))\n",
    "for i in range(1,11):\n",
    "    print(n,\"*\",i,\"=\",n*i)"
   ]
  },
  {
   "cell_type": "code",
   "execution_count": null,
   "id": "56349426",
   "metadata": {},
   "outputs": [],
   "source": []
  },
  {
   "cell_type": "code",
   "execution_count": null,
   "id": "86190025",
   "metadata": {},
   "outputs": [],
   "source": [
    "for i in range(5):\n",
    "    x=int(input(\"Enter n=\"))\n",
    "    print(\"You entered\",x)"
   ]
  },
  {
   "cell_type": "code",
   "execution_count": 16,
   "id": "83f8fe34",
   "metadata": {},
   "outputs": [
    {
     "name": "stdout",
     "output_type": "stream",
     "text": [
      "Enter n=5\n",
      "Enter x=0\n",
      "Enter x=9\n",
      "Enter x=0\n",
      "Enter x=9\n",
      "Enter x=9\n",
      "sum= 27\n"
     ]
    }
   ],
   "source": [
    "s=0\n",
    "n=int(input(\"Enter n=\"))\n",
    "for i in range(n):\n",
    "     x=int(input(\"Enter x=\"))\n",
    "     s=s+x\n",
    "print(\"sum=\",s)"
   ]
  },
  {
   "cell_type": "markdown",
   "id": "7e16f06a",
   "metadata": {},
   "source": []
  },
  {
   "cell_type": "code",
   "execution_count": 18,
   "id": "7f12ecf5",
   "metadata": {},
   "outputs": [
    {
     "name": "stdout",
     "output_type": "stream",
     "text": [
      "Enter n=1\n",
      "Enter x=22\n",
      "22\n"
     ]
    }
   ],
   "source": [
    "s=0\n",
    "n=int(input(\"Enter n=\"))\n",
    "for i in range(n):\n",
    "     x=int(input(\"Enter x=\"))\n",
    "     s=s+x\n",
    "     print(s)"
   ]
  },
  {
   "cell_type": "markdown",
   "id": "226e7ea8",
   "metadata": {},
   "source": []
  },
  {
   "cell_type": "code",
   "execution_count": 4,
   "id": "9937df7e",
   "metadata": {},
   "outputs": [
    {
     "name": "stdout",
     "output_type": "stream",
     "text": [
      "Enter n=2\n",
      "Enter x=1\n",
      "Enter x=2\n",
      "1\n",
      "2\n",
      "\n"
     ]
    }
   ],
   "source": [
    "#s=\"\"\n",
    "s=str()\n",
    "n=int(input(\"Enter n=\"))\n",
    "for i in range(n):\n",
    "     x=str(input(\"Enter x=\"))\n",
    "     s=s+x+\"\\n\"\n",
    "print(s)"
   ]
  },
  {
   "cell_type": "code",
   "execution_count": null,
   "id": "83fa3051",
   "metadata": {},
   "outputs": [],
   "source": []
  },
  {
   "cell_type": "code",
   "execution_count": 13,
   "id": "97232998",
   "metadata": {},
   "outputs": [
    {
     "name": "stdout",
     "output_type": "stream",
     "text": [
      "Enter n=2\n",
      "Enter name=Ram\n",
      "Enter phone no=98000\n",
      "Enter name=Sita\n",
      "Enter phone no=3333\n",
      "Ram 98000\n",
      "Sita 3333\n",
      "\n"
     ]
    }
   ],
   "source": [
    "s=\"\"\n",
    "#s=str()\n",
    "n=int(input(\"Enter n=\"))\n",
    "for i in range(n):\n",
    "     name=input(\"Enter name=\")\n",
    "     phone=input(\"Enter phone no=\")\n",
    "     s=s+name+\" \"+phone+\"\\n\"\n",
    "print(s)"
   ]
  },
  {
   "cell_type": "code",
   "execution_count": null,
   "id": "dd32597a",
   "metadata": {},
   "outputs": [],
   "source": []
  }
 ],
 "metadata": {
  "kernelspec": {
   "display_name": "Python 3 (ipykernel)",
   "language": "python",
   "name": "python3"
  },
  "language_info": {
   "codemirror_mode": {
    "name": "ipython",
    "version": 3
   },
   "file_extension": ".py",
   "mimetype": "text/x-python",
   "name": "python",
   "nbconvert_exporter": "python",
   "pygments_lexer": "ipython3",
   "version": "3.11.5"
  }
 },
 "nbformat": 4,
 "nbformat_minor": 5
}
