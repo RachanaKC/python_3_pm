{
 "cells": [
  {
   "cell_type": "code",
   "execution_count": 1,
   "id": "9cf91338",
   "metadata": {},
   "outputs": [],
   "source": [
    "#file handling\n",
    "#file=open(\"<file_name\",\"<mode>\")\n",
    "#file.close()\n",
    "\n",
    "#with open(\"<file_name\",\"<mode>\") as file:\n",
    "#<operation>\n",
    "\n",
    "\n",
    "#modes\n",
    "#-create->'x'\n",
    "#-read->'r'\n",
    "#-write->'w'\n",
    "#-append->'a'"
   ]
  },
  {
   "cell_type": "code",
   "execution_count": 2,
   "id": "88557226",
   "metadata": {},
   "outputs": [],
   "source": [
    "file=open('data.txt','x')#twice run gives error\n",
    "file.close()"
   ]
  },
  {
   "cell_type": "code",
   "execution_count": 3,
   "id": "7d35e2ca",
   "metadata": {},
   "outputs": [
    {
     "data": {
      "text/plain": [
       "'C:\\\\Users\\\\Dell\\\\Desktop\\\\Python Project'"
      ]
     },
     "execution_count": 3,
     "metadata": {},
     "output_type": "execute_result"
    }
   ],
   "source": [
    "pwd\n"
   ]
  },
  {
   "cell_type": "code",
   "execution_count": 4,
   "id": "83460c88",
   "metadata": {},
   "outputs": [
    {
     "name": "stdout",
     "output_type": "stream",
     "text": [
      "1.Hello World\n",
      "2.Hello World\n",
      "3.Hello World\n",
      "4.Hello World\n",
      "5.Hello World\n"
     ]
    }
   ],
   "source": [
    "file=open('data.txt','r')\n",
    "data=file.read()\n",
    "print(data)\n",
    "file.close()"
   ]
  },
  {
   "cell_type": "code",
   "execution_count": 5,
   "id": "af26d82e",
   "metadata": {},
   "outputs": [
    {
     "name": "stdout",
     "output_type": "stream",
     "text": [
      "<class 'str'>\n"
     ]
    }
   ],
   "source": [
    "print(type(data))"
   ]
  },
  {
   "cell_type": "code",
   "execution_count": 7,
   "id": "7b1dd8b6",
   "metadata": {},
   "outputs": [
    {
     "name": "stdout",
     "output_type": "stream",
     "text": [
      "The file is already there.\n"
     ]
    }
   ],
   "source": [
    "try:\n",
    "    file=open('data.txt','x')#twice run gives error to remove this exception handling can be done\n",
    "    file.close()\n",
    "except:\n",
    "    print(\"The file is already there.\")"
   ]
  },
  {
   "cell_type": "code",
   "execution_count": 8,
   "id": "98e09805",
   "metadata": {},
   "outputs": [
    {
     "data": {
      "text/plain": [
       "['1.Hello World',\n",
       " '2.Hello World',\n",
       " '3.Hello World',\n",
       " '4.Hello World',\n",
       " '5.Hello World']"
      ]
     },
     "execution_count": 8,
     "metadata": {},
     "output_type": "execute_result"
    }
   ],
   "source": [
    "data=data.split('\\n')#changed into list\n",
    "data"
   ]
  },
  {
   "cell_type": "code",
   "execution_count": 9,
   "id": "dbd55aff",
   "metadata": {},
   "outputs": [
    {
     "name": "stdout",
     "output_type": "stream",
     "text": [
      "1.Hello World\n"
     ]
    }
   ],
   "source": [
    "print(data[0])"
   ]
  },
  {
   "cell_type": "code",
   "execution_count": 10,
   "id": "a0a7b02f",
   "metadata": {},
   "outputs": [],
   "source": [
    "#write mode\n",
    "file=open('data1.txt','w')#if file is already exist then content overwrite otherwise create file and write\n",
    "file.write('Hello World')\n",
    "file.close()"
   ]
  },
  {
   "cell_type": "code",
   "execution_count": 13,
   "id": "e6b3d0ab",
   "metadata": {},
   "outputs": [
    {
     "name": "stdout",
     "output_type": "stream",
     "text": [
      "Enter n=2\n",
      "Enter product name=Apple\n",
      "Enter price=280\n",
      "Enter quantity=2\n",
      "Enter product name=Mango\n",
      "Enter price=300\n",
      "Enter quantity=3\n"
     ]
    }
   ],
   "source": [
    "bill=str()\n",
    "n=int(input(\"Enter n=\"))\n",
    "for i in range(n):\n",
    "    name=input(\"Enter product name=\")\n",
    "    price=float(input(\"Enter price=\"))\n",
    "    qty=float(input(\"Enter quantity=\"))\n",
    "    total=price*qty\n",
    "    bill=bill+f\"{name}\\t{price}\\t{qty}\\t{total}\\n\"\n",
    "file=open('bill.txt','w')\n",
    "file.write('Name\\tPrice\\tQuantity\\tTotal\\n')\n",
    "file.write(bill)\n",
    "file.close()"
   ]
  },
  {
   "cell_type": "code",
   "execution_count": null,
   "id": "029cfc35",
   "metadata": {},
   "outputs": [],
   "source": []
  },
  {
   "cell_type": "code",
   "execution_count": 14,
   "id": "3386b8df",
   "metadata": {},
   "outputs": [
    {
     "name": "stdout",
     "output_type": "stream",
     "text": [
      "Enter n=2\n",
      "Enter product name=Apple\n",
      "Enter price=600\n",
      "Enter quantity=2\n",
      "Enter product name=Mango\n",
      "Enter price=900\n",
      "Enter quantity=2\n"
     ]
    }
   ],
   "source": [
    "bill=str()\n",
    "n=int(input(\"Enter n=\"))\n",
    "for i in range(n):\n",
    "    name=input(\"Enter product name=\")\n",
    "    price=float(input(\"Enter price=\"))\n",
    "    qty=float(input(\"Enter quantity=\"))\n",
    "    total=price*qty\n",
    "    bill=bill+f\"{name},{price},{qty},{total}\\n\"\n",
    "file=open('bill.csv','w')\n",
    "file.write('Name,Price,Quantity,Total\\n')\n",
    "file.write(bill)\n",
    "file.close()"
   ]
  },
  {
   "cell_type": "code",
   "execution_count": 15,
   "id": "8b1d8f61",
   "metadata": {},
   "outputs": [
    {
     "data": {
      "text/plain": [
       "'C:\\\\Users\\\\Dell\\\\Desktop\\\\Python Project'"
      ]
     },
     "execution_count": 15,
     "metadata": {},
     "output_type": "execute_result"
    }
   ],
   "source": [
    "pwd\n"
   ]
  },
  {
   "cell_type": "code",
   "execution_count": 20,
   "id": "30160cdb",
   "metadata": {},
   "outputs": [
    {
     "data": {
      "text/plain": [
       "26"
      ]
     },
     "execution_count": 20,
     "metadata": {},
     "output_type": "execute_result"
    }
   ],
   "source": [
    "#using append mode\n",
    "file=open('bill1.csv','a')\n",
    "file.write('Name,Price,Quantity,Total\\n')"
   ]
  },
  {
   "cell_type": "code",
   "execution_count": 21,
   "id": "5f25a8a1",
   "metadata": {},
   "outputs": [
    {
     "name": "stdout",
     "output_type": "stream",
     "text": [
      "Enter n=2\n",
      "Enter product name=Apple\n",
      "Enter price=200\n",
      "Enter quantity=2\n",
      "Enter product name=Mango\n",
      "Enter price=300\n",
      "Enter quantity=3\n"
     ]
    },
    {
     "data": {
      "text/plain": [
       "44"
      ]
     },
     "execution_count": 21,
     "metadata": {},
     "output_type": "execute_result"
    }
   ],
   "source": [
    "bill=str()\n",
    "n=int(input(\"Enter n=\"))\n",
    "for i in range(n):\n",
    "    name=input(\"Enter product name=\")\n",
    "    price=float(input(\"Enter price=\"))\n",
    "    qty=float(input(\"Enter quantity=\"))\n",
    "    total=price*qty\n",
    "    bill=bill+f\"{name},{price},{qty},{total}\\n\"\n",
    "file.write(bill)\n"
   ]
  },
  {
   "cell_type": "code",
   "execution_count": 22,
   "id": "a1ecc17e",
   "metadata": {},
   "outputs": [],
   "source": [
    "file.close()"
   ]
  },
  {
   "cell_type": "code",
   "execution_count": 23,
   "id": "677cf8c9",
   "metadata": {},
   "outputs": [
    {
     "data": {
      "text/html": [
       "<div>\n",
       "<style scoped>\n",
       "    .dataframe tbody tr th:only-of-type {\n",
       "        vertical-align: middle;\n",
       "    }\n",
       "\n",
       "    .dataframe tbody tr th {\n",
       "        vertical-align: top;\n",
       "    }\n",
       "\n",
       "    .dataframe thead th {\n",
       "        text-align: right;\n",
       "    }\n",
       "</style>\n",
       "<table border=\"1\" class=\"dataframe\">\n",
       "  <thead>\n",
       "    <tr style=\"text-align: right;\">\n",
       "      <th></th>\n",
       "      <th>Name</th>\n",
       "      <th>Price</th>\n",
       "      <th>Quantity</th>\n",
       "      <th>Total</th>\n",
       "    </tr>\n",
       "  </thead>\n",
       "  <tbody>\n",
       "    <tr>\n",
       "      <th>0</th>\n",
       "      <td>Chips</td>\n",
       "      <td>60.0</td>\n",
       "      <td>2.0</td>\n",
       "      <td>120.0</td>\n",
       "    </tr>\n",
       "    <tr>\n",
       "      <th>1</th>\n",
       "      <td>Biscuit</td>\n",
       "      <td>20.0</td>\n",
       "      <td>12.0</td>\n",
       "      <td>240.0</td>\n",
       "    </tr>\n",
       "    <tr>\n",
       "      <th>2</th>\n",
       "      <td>Name</td>\n",
       "      <td>Price</td>\n",
       "      <td>Quantity</td>\n",
       "      <td>Total</td>\n",
       "    </tr>\n",
       "    <tr>\n",
       "      <th>3</th>\n",
       "      <td>Apple</td>\n",
       "      <td>200.0</td>\n",
       "      <td>2.0</td>\n",
       "      <td>400.0</td>\n",
       "    </tr>\n",
       "    <tr>\n",
       "      <th>4</th>\n",
       "      <td>Mango</td>\n",
       "      <td>300.0</td>\n",
       "      <td>3.0</td>\n",
       "      <td>900.0</td>\n",
       "    </tr>\n",
       "  </tbody>\n",
       "</table>\n",
       "</div>"
      ],
      "text/plain": [
       "      Name  Price  Quantity  Total\n",
       "0    Chips   60.0       2.0  120.0\n",
       "1  Biscuit   20.0      12.0  240.0\n",
       "2     Name  Price  Quantity  Total\n",
       "3    Apple  200.0       2.0  400.0\n",
       "4    Mango  300.0       3.0  900.0"
      ]
     },
     "execution_count": 23,
     "metadata": {},
     "output_type": "execute_result"
    }
   ],
   "source": [
    "import pandas as pd\n",
    "df=pd.read_csv('bill1.csv')\n",
    "df"
   ]
  },
  {
   "cell_type": "code",
   "execution_count": null,
   "id": "ddeefb2e",
   "metadata": {},
   "outputs": [],
   "source": []
  }
 ],
 "metadata": {
  "kernelspec": {
   "display_name": "Python 3 (ipykernel)",
   "language": "python",
   "name": "python3"
  },
  "language_info": {
   "codemirror_mode": {
    "name": "ipython",
    "version": 3
   },
   "file_extension": ".py",
   "mimetype": "text/x-python",
   "name": "python",
   "nbconvert_exporter": "python",
   "pygments_lexer": "ipython3",
   "version": "3.11.5"
  }
 },
 "nbformat": 4,
 "nbformat_minor": 5
}
