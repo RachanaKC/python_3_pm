{
 "cells": [
  {
   "cell_type": "code",
   "execution_count": null,
   "id": "55f13a26",
   "metadata": {},
   "outputs": [],
   "source": [
    "#function\n",
    "#user defined\n",
    "#pre defined function"
   ]
  },
  {
   "cell_type": "code",
   "execution_count": null,
   "id": "e038b126",
   "metadata": {},
   "outputs": [],
   "source": [
    "#pre defined function\n",
    "print(),int(),float(),str(),list(),tuple(),set(),dict()"
   ]
  },
  {
   "cell_type": "code",
   "execution_count": 3,
   "id": "9242dafb",
   "metadata": {},
   "outputs": [],
   "source": [
    "#def<function name>:\n",
    "    #<operation>\n",
    "    #<function name>"
   ]
  },
  {
   "cell_type": "code",
   "execution_count": 4,
   "id": "5a4108bb",
   "metadata": {},
   "outputs": [],
   "source": [
    "def hello(): #defining a function\n",
    "    print(\"Hello World\")\n",
    "    hello() #calling the function"
   ]
  },
  {
   "cell_type": "code",
   "execution_count": 6,
   "id": "be4f0be7",
   "metadata": {},
   "outputs": [
    {
     "name": "stdout",
     "output_type": "stream",
     "text": [
      "Enter l=2\n",
      "Enter b=3\n",
      "Area is= 6\n"
     ]
    }
   ],
   "source": [
    "def area():\n",
    "    a=l*b\n",
    "    print(\"Area is=\",a)\n",
    "    l=int(input(\"Enter l=\"))#global variable(defined outside function)\n",
    "    b=int(input(\"Enter b=\"))#global variable(defined outside function)\n",
    "area()"
   ]
  },
  {
   "cell_type": "code",
   "execution_count": null,
   "id": "4a209292",
   "metadata": {},
   "outputs": [],
   "source": []
  },
  {
   "cell_type": "code",
   "execution_count": 6,
   "id": "7fdd85d6",
   "metadata": {},
   "outputs": [
    {
     "name": "stdout",
     "output_type": "stream",
     "text": [
      "Enter l=2\n",
      "Enter b=3\n",
      "Area is= 6\n"
     ]
    }
   ],
   "source": [
    "def area():\n",
    "    l=int(input(\"Enter l=\"))#local variable(defined inside function)\n",
    "    b=int(input(\"Enter b=\"))#local variable(defined inside function)\n",
    "    a=l*b\n",
    "    print(\"Area is=\",a)\n",
    "\n",
    "area()"
   ]
  },
  {
   "cell_type": "code",
   "execution_count": 7,
   "id": "42a76721",
   "metadata": {},
   "outputs": [],
   "source": [
    "#function with arguments"
   ]
  },
  {
   "cell_type": "code",
   "execution_count": 10,
   "id": "4c91aa88",
   "metadata": {},
   "outputs": [
    {
     "name": "stdout",
     "output_type": "stream",
     "text": [
      "50\n"
     ]
    }
   ],
   "source": [
    "def area(l,b):#parameter\n",
    "    a=l*b\n",
    "    print(a)\n",
    "area(10,5) #arguments"
   ]
  },
  {
   "cell_type": "code",
   "execution_count": 12,
   "id": "c5457b11",
   "metadata": {},
   "outputs": [
    {
     "name": "stdout",
     "output_type": "stream",
     "text": [
      "Enter l=2\n",
      "Enter b=3\n",
      "Area is= 6\n"
     ]
    }
   ],
   "source": [
    "def area(x,y):\n",
    "    a=x*y\n",
    "    print(\"Area is=\",a)\n",
    "l=int(input(\"Enter l=\"))#global variable(defined outside function)\n",
    "b=int(input(\"Enter b=\"))#global variable(defined outside function)\n",
    "\n",
    "area(l,b)"
   ]
  },
  {
   "cell_type": "code",
   "execution_count": 14,
   "id": "2655bcde",
   "metadata": {},
   "outputs": [
    {
     "name": "stdout",
     "output_type": "stream",
     "text": [
      "Enter name=r\n",
      "Enter age=r\n",
      "Enter add=r\n",
      "Hello World I amr,Iam fromr,Iam r\n"
     ]
    }
   ],
   "source": [
    "def info(name,age,add):\n",
    "    print(f\"Hello World I am{name},Iam from{age},Iam {add}\")\n",
    "name=input(\"Enter name=\")\n",
    "age=input(\"Enter age=\")\n",
    "add=input(\"Enter add=\")\n",
    "info(name,age,add)"
   ]
  },
  {
   "cell_type": "code",
   "execution_count": null,
   "id": "85a4f7af",
   "metadata": {},
   "outputs": [],
   "source": []
  },
  {
   "cell_type": "code",
   "execution_count": 17,
   "id": "0056fcb4",
   "metadata": {},
   "outputs": [
    {
     "name": "stdout",
     "output_type": "stream",
     "text": [
      "Enter name=R\n",
      "Enter age=9\n",
      "Enter add=KTM\n",
      "Hello World I am R,Iam 9 years,I am fromKTM\n"
     ]
    }
   ],
   "source": [
    "def info(l):\n",
    "    x,y,z=l\n",
    "    print(f\"Hello World I am {x},Iam {y} years,I am from {z}\")\n",
    "name=input(\"Enter name=\")\n",
    "age=input(\"Enter age=\")\n",
    "add=input(\"Enter add=\")\n",
    "l=[name,age,add]\n",
    "info(l)"
   ]
  },
  {
   "cell_type": "code",
   "execution_count": 18,
   "id": "ae2fc456",
   "metadata": {},
   "outputs": [
    {
     "name": "stdout",
     "output_type": "stream",
     "text": [
      "C\n",
      "C++\n",
      "Java\n",
      "PHP\n",
      "python\n"
     ]
    }
   ],
   "source": [
    "def language(lan=\"python\"):#parameter as defult values\n",
    "    print(lan)\n",
    "language(\"C\")\n",
    "language(\"C++\")\n",
    "language(\"Java\")\n",
    "language(\"PHP\")\n",
    "language()"
   ]
  },
  {
   "cell_type": "code",
   "execution_count": 19,
   "id": "219faac4",
   "metadata": {},
   "outputs": [],
   "source": [
    "#Return type function(to send output outside the function)"
   ]
  },
  {
   "cell_type": "code",
   "execution_count": 20,
   "id": "3de79d31",
   "metadata": {},
   "outputs": [
    {
     "name": "stdout",
     "output_type": "stream",
     "text": [
      "Volume= 100\n"
     ]
    }
   ],
   "source": [
    "def area():\n",
    "    l=10\n",
    "    b=5\n",
    "    a=l*b\n",
    "    return a\n",
    "\n",
    "#print(area())\n",
    "ar=area()# stored value of a\n",
    "h=2\n",
    "v=ar*h\n",
    "print(\"Volume=\",v)"
   ]
  },
  {
   "cell_type": "code",
   "execution_count": null,
   "id": "dba463e1",
   "metadata": {},
   "outputs": [],
   "source": []
  },
  {
   "cell_type": "code",
   "execution_count": 27,
   "id": "6907b162",
   "metadata": {},
   "outputs": [
    {
     "name": "stdout",
     "output_type": "stream",
     "text": [
      "area= 50\n",
      "Volume= 100\n"
     ]
    }
   ],
   "source": [
    "def cal():\n",
    "    l=10\n",
    "    b=5\n",
    "    h=2\n",
    "    a=l*b\n",
    "    v=a*h\n",
    "    return a,v\n",
    "\n",
    "area,volume=cal()\n",
    "print(\"area=\",area)\n",
    "print(\"Volume=\",volume)"
   ]
  },
  {
   "cell_type": "code",
   "execution_count": null,
   "id": "dd94e48f",
   "metadata": {},
   "outputs": [],
   "source": []
  },
  {
   "cell_type": "code",
   "execution_count": 26,
   "id": "7e447307",
   "metadata": {},
   "outputs": [
    {
     "name": "stdout",
     "output_type": "stream",
     "text": [
      "Enter l=2\n",
      "Enter b=3\n",
      "Enter h=4\n",
      "(50, 100)\n",
      "area= 6\n",
      "Volume= 24\n"
     ]
    }
   ],
   "source": [
    "def cal(l,b,h):\n",
    "    a=l*b\n",
    "    v=a*h\n",
    "    return a,v\n",
    "l=int(input(\"Enter l=\"))\n",
    "b=int(input(\"Enter b=\"))\n",
    "h=int(input(\"Enter h=\"))\n",
    "area,volume=cal(l,b,h)\n",
    "print(ar)\n",
    "print(\"area=\",area)\n",
    "print(\"Volume=\",volume)"
   ]
  },
  {
   "cell_type": "code",
   "execution_count": 1,
   "id": "0bd3681b",
   "metadata": {},
   "outputs": [
    {
     "name": "stdout",
     "output_type": "stream",
     "text": [
      "Enter a = 8\n",
      "Enter b = 9\n",
      "Enter + or - or * or /  +\n",
      "17\n"
     ]
    }
   ],
   "source": [
    "def add(a,b):\n",
    "    return a+b\n",
    "def sub(a,b):\n",
    "    return a-b\n",
    "def mul(a,b):\n",
    "    return a*b\n",
    "def div(a,b):\n",
    "    return a/b\n",
    "def cal():\n",
    "    a = int(input(\"Enter a = \"))\n",
    "    b = int(input(\"Enter b = \"))\n",
    "    o = input(\"Enter + or - or * or /  \")\n",
    "    if o == \"+\":\n",
    "        print(add(a,b))\n",
    "    elif o == \"-\":\n",
    "        print(sub(a,b))\n",
    "    elif o == \"*\":\n",
    "        print(mul(a,b))\n",
    "    elif o == \"/\":\n",
    "        print(div(a,b))\n",
    "    else:\n",
    "        print(\"Enter valid operator\")\n",
    "cal()"
   ]
  },
  {
   "cell_type": "code",
   "execution_count": null,
   "id": "e054176a",
   "metadata": {},
   "outputs": [],
   "source": []
  }
 ],
 "metadata": {
  "kernelspec": {
   "display_name": "Python 3 (ipykernel)",
   "language": "python",
   "name": "python3"
  },
  "language_info": {
   "codemirror_mode": {
    "name": "ipython",
    "version": 3
   },
   "file_extension": ".py",
   "mimetype": "text/x-python",
   "name": "python",
   "nbconvert_exporter": "python",
   "pygments_lexer": "ipython3",
   "version": "3.11.5"
  }
 },
 "nbformat": 4,
 "nbformat_minor": 5
}
