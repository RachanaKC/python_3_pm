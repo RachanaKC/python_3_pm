{
 "cells": [
  {
   "cell_type": "markdown",
   "id": "071871aa",
   "metadata": {},
   "source": [
    "# tuple\n",
    "#Support indexing\n",
    "-ordered\n",
    "-multiple and duplicate data\n",
    "-Imutable"
   ]
  },
  {
   "cell_type": "code",
   "execution_count": null,
   "id": "e27b926e",
   "metadata": {},
   "outputs": [],
   "source": [
    "t=tuple()\n"
   ]
  },
  {
   "cell_type": "code",
   "execution_count": 1,
   "id": "695a3e3f",
   "metadata": {},
   "outputs": [
    {
     "name": "stdout",
     "output_type": "stream",
     "text": [
      "<class 'tuple'>\n"
     ]
    }
   ],
   "source": [
    "t=(\"Apple\",\"Ball\",\"Cat\",\"Rat\")\n",
    "print(type(t))"
   ]
  },
  {
   "cell_type": "code",
   "execution_count": 4,
   "id": "e5098856",
   "metadata": {},
   "outputs": [
    {
     "name": "stdout",
     "output_type": "stream",
     "text": [
      "<class 'str'>\n",
      "<class 'tuple'>\n",
      "Apple\n"
     ]
    }
   ],
   "source": [
    "t=(\"Apple\")\n",
    "t2=(\"Apple\",)\n",
    "print(type(t))\n",
    "print(type(t2))\n",
    "print(t) #print in ordered"
   ]
  },
  {
   "cell_type": "code",
   "execution_count": 5,
   "id": "bfaa2587",
   "metadata": {},
   "outputs": [
    {
     "name": "stdout",
     "output_type": "stream",
     "text": [
      "<class 'tuple'>\n",
      "Rat\n"
     ]
    }
   ],
   "source": [
    "t=(\"Apple\",\"Ball\",\"Cat\",\"Rat\")\n",
    "print(type(t))\n",
    "print(t[3])"
   ]
  },
  {
   "cell_type": "code",
   "execution_count": null,
   "id": "57c9815c",
   "metadata": {},
   "outputs": [],
   "source": [
    "#no append(),insert(),extend(),\n",
    "#no update,no del remove() pop(),no sort() \n",
    "#in tuple .\n",
    "#If we need static data then only we use tuple\n",
    "#it is light weight(takes minimum space)"
   ]
  },
  {
   "cell_type": "markdown",
   "id": "3605435d",
   "metadata": {},
   "source": [
    "a=(1,2,3,4)\n",
    "b=(3,4,5,6)\n",
    "c=a+b\n",
    "print(c)"
   ]
  },
  {
   "cell_type": "code",
   "execution_count": 6,
   "id": "9db3ca18",
   "metadata": {},
   "outputs": [
    {
     "name": "stdout",
     "output_type": "stream",
     "text": [
      "(1, 2, 3, 4, 3, 4, 5, 6)\n"
     ]
    }
   ],
   "source": [
    "a=(1,2,3,4) \n",
    "b=(3,4,5,6) \n",
    "c=a+b #concatination\n",
    "print(c)"
   ]
  },
  {
   "cell_type": "code",
   "execution_count": 8,
   "id": "299fa9e8",
   "metadata": {},
   "outputs": [
    {
     "name": "stdout",
     "output_type": "stream",
     "text": [
      "Enter n=2\n",
      "Enter x=7\n",
      "Enter x=8\n",
      "(7, 8)\n"
     ]
    }
   ],
   "source": [
    "a=tuple()\n",
    "n=int(input(\"Enter n=\"))\n",
    "for i in range(n):\n",
    "    x=int(input(\"Enter x=\"))\n",
    "    a=a+(x,)\n",
    "print(a)\n",
    "    "
   ]
  },
  {
   "cell_type": "code",
   "execution_count": 9,
   "id": "2cc3ed33",
   "metadata": {},
   "outputs": [
    {
     "name": "stdout",
     "output_type": "stream",
     "text": [
      "8\n",
      "7\n",
      "15\n"
     ]
    }
   ],
   "source": [
    "print(max(a))\n",
    "print(min(a))\n",
    "print(sum(a))"
   ]
  },
  {
   "cell_type": "code",
   "execution_count": 10,
   "id": "788c789d",
   "metadata": {},
   "outputs": [
    {
     "ename": "NameError",
     "evalue": "name 'sort' is not defined",
     "output_type": "error",
     "traceback": [
      "\u001b[1;31m---------------------------------------------------------------------------\u001b[0m",
      "\u001b[1;31mNameError\u001b[0m                                 Traceback (most recent call last)",
      "Cell \u001b[1;32mIn[10], line 1\u001b[0m\n\u001b[1;32m----> 1\u001b[0m \u001b[38;5;28mprint\u001b[39m(sort(a))\n",
      "\u001b[1;31mNameError\u001b[0m: name 'sort' is not defined"
     ]
    }
   ],
   "source": [
    "print(sort(a))"
   ]
  },
  {
   "cell_type": "code",
   "execution_count": 11,
   "id": "1cd66090",
   "metadata": {},
   "outputs": [
    {
     "data": {
      "text/plain": [
       "['Apple', 'Ball', 'Cat', 'Rat']"
      ]
     },
     "execution_count": 11,
     "metadata": {},
     "output_type": "execute_result"
    }
   ],
   "source": [
    "t=(\"Apple\",\"Ball\",\"Cat\",\"Rat\")\n",
    "t=list(t)#change tuple to list\n",
    "t"
   ]
  },
  {
   "cell_type": "code",
   "execution_count": 12,
   "id": "3a2f3cca",
   "metadata": {},
   "outputs": [
    {
     "name": "stdout",
     "output_type": "stream",
     "text": [
      "['Apple', 'Ball', 'Cat', 'Rat']\n",
      "['Ball', 'Cat', 'Rat']\n"
     ]
    },
    {
     "data": {
      "text/plain": [
       "('Ball', 'Cat', 'Rat')"
      ]
     },
     "execution_count": 12,
     "metadata": {},
     "output_type": "execute_result"
    }
   ],
   "source": [
    "print(t)\n",
    "del t[0]\n",
    "print(t)\n",
    "t=tuple(t)#change tuple into list\n",
    "t"
   ]
  },
  {
   "cell_type": "code",
   "execution_count": 13,
   "id": "b6288d44",
   "metadata": {},
   "outputs": [
    {
     "name": "stdout",
     "output_type": "stream",
     "text": [
      "('A', 'p', 'p', 'l', 'e')\n",
      "['A', 'p', 'p', 'l', 'e']\n"
     ]
    }
   ],
   "source": [
    "a=\"Apple\" #string can be change into tuple or list\n",
    "print(tuple(a))\n",
    "print(list(a))"
   ]
  },
  {
   "cell_type": "code",
   "execution_count": 14,
   "id": "ce7f5069",
   "metadata": {},
   "outputs": [],
   "source": [
    "#set\n",
    "#no indexing\n",
    "#unordered\n",
    "#multiple but no duplicate data\n",
    "#mutable"
   ]
  },
  {
   "cell_type": "code",
   "execution_count": 17,
   "id": "a9cb32c2",
   "metadata": {},
   "outputs": [],
   "source": [
    "s=set()"
   ]
  },
  {
   "cell_type": "code",
   "execution_count": 19,
   "id": "80e7881f",
   "metadata": {},
   "outputs": [
    {
     "name": "stdout",
     "output_type": "stream",
     "text": [
      "<class 'set'>\n",
      "{'Rat', 'Cat', 'Apple', 'Ball'}\n"
     ]
    },
    {
     "ename": "TypeError",
     "evalue": "'set' object is not subscriptable",
     "output_type": "error",
     "traceback": [
      "\u001b[1;31m---------------------------------------------------------------------------\u001b[0m",
      "\u001b[1;31mTypeError\u001b[0m                                 Traceback (most recent call last)",
      "Cell \u001b[1;32mIn[19], line 4\u001b[0m\n\u001b[0;32m      2\u001b[0m \u001b[38;5;28mprint\u001b[39m(\u001b[38;5;28mtype\u001b[39m(s))\n\u001b[0;32m      3\u001b[0m \u001b[38;5;28mprint\u001b[39m(s) \u001b[38;5;66;03m#unorered outout\u001b[39;00m\n\u001b[1;32m----> 4\u001b[0m \u001b[38;5;28mprint\u001b[39m(s[\u001b[38;5;241m0\u001b[39m])\n",
      "\u001b[1;31mTypeError\u001b[0m: 'set' object is not subscriptable"
     ]
    }
   ],
   "source": [
    "s={\"Apple\",\"Ball\",\"Cat\",\"Rat\"}\n",
    "print(type(s))\n",
    "print(s) #unorered outout\n",
    "print(s[0])# no indexing"
   ]
  },
  {
   "cell_type": "code",
   "execution_count": 21,
   "id": "0c0e8433",
   "metadata": {},
   "outputs": [
    {
     "name": "stdout",
     "output_type": "stream",
     "text": [
      "{'Rat', 'Cat', 'Apple', 'Ball'}\n",
      "['Rat', 'Cat', 'Apple', 'Ball']\n"
     ]
    }
   ],
   "source": [
    "s={\"Apple\",\"Ball\",\"Cat\",\"Rat\",\"Apple\"}\n",
    "print(s)\n",
    "l=list(s)\n",
    "print(l)"
   ]
  },
  {
   "cell_type": "code",
   "execution_count": 23,
   "id": "f5f369dc",
   "metadata": {},
   "outputs": [
    {
     "name": "stdout",
     "output_type": "stream",
     "text": [
      "{'Cat', 'Apple', 'Ball'}\n"
     ]
    }
   ],
   "source": [
    "#s={} dict\n",
    "s=set() #set\n",
    "s.add(\"Apple\")\n",
    "s.add(\"Ball\")\n",
    "s.add(\"Cat\")\n",
    "s.add(\"Apple\")# no duplicate value in set\n",
    "print(s)\n"
   ]
  },
  {
   "cell_type": "code",
   "execution_count": 25,
   "id": "38c6acff",
   "metadata": {},
   "outputs": [
    {
     "name": "stdout",
     "output_type": "stream",
     "text": [
      "Enter n=2\n",
      "Enter x=2\n",
      "Enter x=3\n",
      "{2, 3}\n"
     ]
    }
   ],
   "source": [
    "a=set()\n",
    "n=int(input(\"Enter n=\"))\n",
    "for i in range(n):\n",
    "    x=int(input(\"Enter x=\"))\n",
    "    a.add(x)\n",
    "print(a)"
   ]
  },
  {
   "cell_type": "markdown",
   "id": "40dc4ebb",
   "metadata": {},
   "source": [
    "a={1,2,3,4}\n",
    "b={3,4,5,6,7}\n",
    "a.update(b)\n",
    "print(a)"
   ]
  },
  {
   "cell_type": "code",
   "execution_count": 26,
   "id": "40527f01",
   "metadata": {},
   "outputs": [
    {
     "name": "stdout",
     "output_type": "stream",
     "text": [
      "{1, 2, 3, 4, 5, 6, 7}\n"
     ]
    }
   ],
   "source": [
    "a={1,2,3,4}\n",
    "b={3,4,5,6,7}\n",
    "a.update(b)\n",
    "print(a)"
   ]
  },
  {
   "cell_type": "code",
   "execution_count": 27,
   "id": "c0a70848",
   "metadata": {},
   "outputs": [
    {
     "name": "stdout",
     "output_type": "stream",
     "text": [
      "{2, 3, 4, 5, 6, 7}\n"
     ]
    }
   ],
   "source": [
    "s={1, 2, 3, 4, 5, 6, 7}\n",
    "s.remove(1)\n",
    "print(s)"
   ]
  },
  {
   "cell_type": "code",
   "execution_count": 33,
   "id": "2966c888",
   "metadata": {},
   "outputs": [
    {
     "name": "stdout",
     "output_type": "stream",
     "text": [
      "{'Ram', 4, 5}\n",
      "{1, 2, 3, 4, 5, 6, 7, 8, 'Ram'}\n",
      "{1, 2, 3}\n",
      "{8, 6, 7}\n",
      "{0, 9}\n"
     ]
    }
   ],
   "source": [
    "U={0,1,2,3,4,5,6,7,8,9,\"Ram\"}\n",
    "a={1,2,3,4,5,\"Ram\"}\n",
    "b={4,5,6,7,8,\"Ram\"}\n",
    "i=a.intersection(b)\n",
    "un=a.union(b)\n",
    "onlyA=a-b\n",
    "onlyU=(U-un)\n",
    "onlyB=b-a\n",
    "print(i)\n",
    "print(un)\n",
    "print(onlyA)\n",
    "print(onlyB)\n",
    "print(onlyU)"
   ]
  },
  {
   "cell_type": "code",
   "execution_count": null,
   "id": "308e5eb5",
   "metadata": {},
   "outputs": [],
   "source": [
    "inside set\n",
    "-no list\n",
    "-no dict\n",
    "-no set"
   ]
  },
  {
   "cell_type": "code",
   "execution_count": 40,
   "id": "f028134b",
   "metadata": {},
   "outputs": [
    {
     "ename": "SyntaxError",
     "evalue": "invalid syntax (1786182774.py, line 3)",
     "output_type": "error",
     "traceback": [
      "\u001b[1;36m  Cell \u001b[1;32mIn[40], line 3\u001b[1;36m\u001b[0m\n\u001b[1;33m    c={(\"d\":\"Apple\"),(\"c\":\"cAT\")}\u001b[0m\n\u001b[1;37m           ^\u001b[0m\n\u001b[1;31mSyntaxError\u001b[0m\u001b[1;31m:\u001b[0m invalid syntax\n"
     ]
    }
   ],
   "source": [
    "a={\"Apple\",\"Ball\"}\n",
    "b={(1,2),(3,4),(4,5)}\n",
    "c={(\"d\":\"Apple\"),(\"c\":\"cAT\")} #invalid syntax\n",
    "print(a)\n",
    "print(b)\n",
    "print(c)"
   ]
  },
  {
   "cell_type": "code",
   "execution_count": null,
   "id": "85c94803",
   "metadata": {},
   "outputs": [],
   "source": [
    "f"
   ]
  }
 ],
 "metadata": {
  "kernelspec": {
   "display_name": "Python 3 (ipykernel)",
   "language": "python",
   "name": "python3"
  },
  "language_info": {
   "codemirror_mode": {
    "name": "ipython",
    "version": 3
   },
   "file_extension": ".py",
   "mimetype": "text/x-python",
   "name": "python",
   "nbconvert_exporter": "python",
   "pygments_lexer": "ipython3",
   "version": "3.11.5"
  }
 },
 "nbformat": 4,
 "nbformat_minor": 5
}
