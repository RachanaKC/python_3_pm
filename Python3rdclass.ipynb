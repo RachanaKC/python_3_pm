{
 "cells": [
  {
   "cell_type": "code",
   "execution_count": 1,
   "id": "b858de28",
   "metadata": {},
   "outputs": [
    {
     "name": "stdout",
     "output_type": "stream",
     "text": [
      "False\n"
     ]
    }
   ],
   "source": [
    "a = 10\n",
    "print(a == 5)"
   ]
  },
  {
   "cell_type": "code",
   "execution_count": 2,
   "id": "10e93b4e",
   "metadata": {},
   "outputs": [
    {
     "name": "stdout",
     "output_type": "stream",
     "text": [
      "True\n"
     ]
    }
   ],
   "source": [
    "a = 10\n",
    "print(a != 5)"
   ]
  },
  {
   "cell_type": "code",
   "execution_count": null,
   "id": "0781ea7f",
   "metadata": {},
   "outputs": [],
   "source": [
    "# if <condition>:\n",
    "#     <operations>\n",
    "# elif <conition>:\n",
    "#     <operations>\n",
    "# else:\n",
    "#     <operations>\n"
   ]
  },
  {
   "cell_type": "code",
   "execution_count": 3,
   "id": "9fd6183a",
   "metadata": {},
   "outputs": [
    {
     "name": "stdout",
     "output_type": "stream",
     "text": [
      "Enter x = 4\n",
      "The no is +ve\n"
     ]
    }
   ],
   "source": [
    "x = int(input(\"Enter x = \"))\n",
    "if x >= 0:\n",
    "    print(\"The no is +ve\")\n",
    "else:\n",
    "    print(\"The is -ve\")"
   ]
  },
  {
   "cell_type": "code",
   "execution_count": 4,
   "id": "799c520e",
   "metadata": {},
   "outputs": [
    {
     "name": "stdout",
     "output_type": "stream",
     "text": [
      "Enter x = 10\n",
      "The no is even\n"
     ]
    }
   ],
   "source": [
    "x = int(input(\"Enter x = \"))\n",
    "if x%2==0:\n",
    "    print(\"The no is even\")\n",
    "else:\n",
    "    print(\"The no is odd\")"
   ]
  },
  {
   "cell_type": "code",
   "execution_count": 5,
   "id": "df24ca3c",
   "metadata": {},
   "outputs": [
    {
     "name": "stdout",
     "output_type": "stream",
     "text": [
      "Enter a = 1\n",
      "Enter b = 1\n",
      "a and b are equal!\n"
     ]
    }
   ],
   "source": [
    "a = int(input(\"Enter a = \"))\n",
    "b = int(input(\"Enter b = \"))\n",
    "if a>b:\n",
    "    print(\"a is greater than b \")\n",
    "elif b>a:\n",
    "    print(\"b is greater than a\")\n",
    "else:\n",
    "    print(\"a and b are equal!\")"
   ]
  },
  {
   "cell_type": "code",
   "execution_count": 6,
   "id": "9a38d979",
   "metadata": {},
   "outputs": [
    {
     "name": "stdout",
     "output_type": "stream",
     "text": [
      "Enter a = 5\n",
      "Enter b = 2\n",
      "Enter + or - or * or /  -\n",
      "3\n"
     ]
    }
   ],
   "source": [
    "a = int(input(\"Enter a = \"))\n",
    "b = int(input(\"Enter b = \"))\n",
    "o = input(\"Enter + or - or * or /  \")\n",
    "if o == \"+\":\n",
    "    print(a+b)\n",
    "elif o == \"-\":\n",
    "    print(a-b)\n",
    "elif o == \"*\":\n",
    "    print(a*b)\n",
    "elif o == \"/\":\n",
    "    print(a/b)\n",
    "else:\n",
    "    print(\"Enter valid operator\")"
   ]
  },
  {
   "cell_type": "code",
   "execution_count": 7,
   "id": "0f169aeb",
   "metadata": {},
   "outputs": [
    {
     "name": "stdout",
     "output_type": "stream",
     "text": [
      "Enter physics marks = 80\n",
      "Enter chemistry marks = 90\n",
      "Enter math marks = 99\n",
      "Enter english marks = 90\n",
      "Enter nepali = 80\n",
      "Total =  439\n",
      "Per =  87.8\n",
      "Grade =  A\n"
     ]
    }
   ],
   "source": [
    "physics = int(input(\"Enter physics marks = \"))\n",
    "chemistry = int(input(\"Enter chemistry marks = \"))\n",
    "math = int(input(\"Enter math marks = \"))\n",
    "english = int(input(\"Enter english marks = \"))\n",
    "nepali = int(input(\"Enter nepali = \"))\n",
    "\n",
    "total = physics + chemistry + math + english + nepali\n",
    "per = total/5\n",
    "\n",
    "if per >= 80:\n",
    "    grade = \"A\"\n",
    "elif per >=60:\n",
    "    grade = \"B\"\n",
    "elif per >= 45:\n",
    "    grade = \"C\"\n",
    "else:\n",
    "    grade = \"F\"\n",
    "    \n",
    "print(\"Total = \",total)\n",
    "print(\"Per = \",per)\n",
    "print(\"Grade = \",grade)"
   ]
  },
  {
   "cell_type": "code",
   "execution_count": 20,
   "id": "6721142c",
   "metadata": {},
   "outputs": [
    {
     "name": "stdout",
     "output_type": "stream",
     "text": [
      "Enter anumber=6\n",
      "given number is 6\n",
      "6 is positive number\n"
     ]
    }
   ],
   "source": [
    "num=int(input('Enter anumber='))\n",
    "print(\"given number is \"+str(num))\n",
    "if num<0:\n",
    "    print(str(num) + \" is negetive number\")\n",
    "elif num>0:\n",
    "    print(str(num) + \" is positive number\")\n",
    "else:\n",
    "    print(\"enter a valid number\")\n"
   ]
  },
  {
   "cell_type": "code",
   "execution_count": 39,
   "id": "7f8bd8af",
   "metadata": {},
   "outputs": [
    {
     "name": "stdout",
     "output_type": "stream",
     "text": [
      "Enter a = 20\n",
      "20  is composite number\n"
     ]
    }
   ],
   "source": [
    "#WAP to find if the given number is prime or composite\n",
    "# prime -> 2,3,5,7,11,13,17,19\n",
    "# composite -> 4,6,8,9,10,12,\n",
    "\n",
    "a = int(input(\"Enter a = \"))\n",
    "if (a!=2 and a!=3 and a!=5 and a!=7) and(a%2==0 or a%3==0 or a%5==0 or a%7==0):\n",
    "    print(a,\" is composite number\")\n",
    "else:\n",
    "    print(a,\"is prime number\")\n",
    "    \n",
    "    "
   ]
  },
  {
   "cell_type": "code",
   "execution_count": null,
   "id": "68db0f9a",
   "metadata": {},
   "outputs": [],
   "source": []
  },
  {
   "cell_type": "code",
   "execution_count": null,
   "id": "73cfa785",
   "metadata": {},
   "outputs": [],
   "source": []
  }
 ],
 "metadata": {
  "kernelspec": {
   "display_name": "Python 3 (ipykernel)",
   "language": "python",
   "name": "python3"
  },
  "language_info": {
   "codemirror_mode": {
    "name": "ipython",
    "version": 3
   },
   "file_extension": ".py",
   "mimetype": "text/x-python",
   "name": "python",
   "nbconvert_exporter": "python",
   "pygments_lexer": "ipython3",
   "version": "3.11.5"
  }
 },
 "nbformat": 4,
 "nbformat_minor": 5
}
